{
 "cells": [
  {
   "cell_type": "markdown",
   "metadata": {},
   "source": [
    "# Struktur Data dan Algoritma"
   ]
  },
  {
   "cell_type": "markdown",
   "metadata": {},
   "source": [
    "Dalam pemrograman, struktur data dan algoritma adalah dua konsep fundamental yang menentukan bagaimana data disusun, diakses, dan diproses untuk menyelesaikan suatu masalah secara efisien.\n",
    "\n",
    "### Struktur Data\n",
    "Struktur data adalah skema atau cara untuk mengorganisir dan menyimpan data sehingga bisa digunakan dengan efisien. Pemilihan struktur data yang tepat sangat berpengaruh terhadap kecepatan dan efisiensi algoritma.\n",
    "\n",
    "Contoh struktur data:\n",
    "- Array\n",
    "- Linked List\n",
    "- Stack\n",
    "- Queue\n",
    "- Tree\n",
    "- Graph"
   ]
  },
  {
   "cell_type": "markdown",
   "metadata": {},
   "source": [
    "### Algoritma \n",
    "Algoritma adalah langkah-langkah sistematis yang digunakan untuk menyelesaikan suatu masalah. Algoritma menentukan bagaimana data diproses, dimanipulasi, dan dikonversi menjadi hasil yang diinginkan."
   ]
  },
  {
   "cell_type": "markdown",
   "metadata": {},
   "source": [
    "### Dalam bidang Machine Learning dan Artificial Intelligence"
   ]
  },
  {
   "cell_type": "markdown",
   "metadata": {},
   "source": [
    "Struktur data dan Algoritma sangat penting dalam bidang Artificial Intelligence (AI) dan Machine Learning (ML) karena membantu dalam pengolahan data besar (big data), pencarian optimal, serta efisiensi dalam komputasi. Pemilihan SDA yang tepat, seperti Array untuk komputasi vektor, Tree untuk klasifikasi, atau Graph untuk analisis hubungan, dapat meningkatkan kinerja algoritma dalam berbagai aplikasi AI,"
   ]
  },
  {
   "cell_type": "markdown",
   "metadata": {},
   "source": [
    "## Mengapa Struktur Data dan Algoritma Penting?"
   ]
  },
  {
   "cell_type": "markdown",
   "metadata": {},
   "source": [
    "Struktur data dan algoritma adalah dua pilar utama dalam ilmu komputer dan pemrograman. Alasan utama mengapa Struktur data dan algoritma penting yaitu :\n",
    "-   Meningkatkan Efisiensi Program : <br>\n",
    "Struktur data yang baik memungkinkan operasi pemrosesan data menjadi lebih cepat dan hemat memori serta Algoritma yang efisien mengurangi waktu eksekusi program.\n",
    "-   Optimasi Penggunaan Sumber Daya :<br>\n",
    "Dalam pemrograman skala besar (big data, AI, sistem cloud), optimasi struktur data dan algoritma sangat penting untuk menghemat penyimpanan dan waktu komputasi."
   ]
  },
  {
   "cell_type": "markdown",
   "metadata": {},
   "source": [
    "## Perbedaan Struktur Data dan Algoritma\n",
    "\n",
    "<table>\n",
    "    <thead>\n",
    "        <tr>\n",
    "            <th>Aspek</th>\n",
    "            <th>Struktur Data</th>\n",
    "            <th>Algoritma</th>\n",
    "        </tr>\n",
    "    </thead>\n",
    "    <tbody>\n",
    "        <tr>\n",
    "            <td>Definisi</td>\n",
    "            <td>Struktur untuk menyimpan dan mengatur data</td>\n",
    "            <td>Langkah-langkah untuk menyelesaikan masalah</td>\n",
    "        </tr>\n",
    "        <tr>\n",
    "            <td>Fokus</td>\n",
    "            <td>Penyimpanan dan Organisasi data</td>\n",
    "            <td>Proses dan pemecahan masalah</td>\n",
    "        </tr>\n",
    "        <tr>\n",
    "            <td>Dampak</td>\n",
    "            <td>Berpengaruh pada penggunaan memori.</td>\n",
    "            <td>Berpengaruh pada kecepatan eksekusi</td>\n",
    "        </tr>\n",
    "    </tbody>\n",
    "</table>\n"
   ]
  },
  {
   "cell_type": "markdown",
   "metadata": {},
   "source": [
    "## Tipe Data\n",
    "### 1. Integer (int)\n",
    "Integer adalah bilangan bulat yang tidak memiliki bagian desimal. Tipe data ini digunakan untuk merepresentasikan angka yang tidak memerlukan pecahan."
   ]
  },
  {
   "cell_type": "code",
   "execution_count": null,
   "metadata": {},
   "outputs": [],
   "source": [
    "x = 10\n",
    "y = -5\n",
    "z = 123456789"
   ]
  },
  {
   "cell_type": "markdown",
   "metadata": {},
   "source": [
    "### 2. Floating-point (float)\n",
    "Floating-point adalah bilangan desimal atau pecahan yang memiliki titik desimal. Tipe data ini digunakan untuk angka yang membutuhkan presisi lebih tinggi dibandingkan integer."
   ]
  },
  {
   "cell_type": "code",
   "execution_count": 1,
   "metadata": {},
   "outputs": [],
   "source": [
    "a = 3.5\n",
    "b = 4.93\n",
    "c = -6.5"
   ]
  },
  {
   "cell_type": "markdown",
   "metadata": {},
   "source": [
    "### 3. Boolean (bool)\n",
    "Boolean adalah tipe data yang hanya memiliki dua nilai yaitu True dan False"
   ]
  },
  {
   "cell_type": "code",
   "execution_count": null,
   "metadata": {},
   "outputs": [],
   "source": [
    "a = True\n",
    "b = False"
   ]
  },
  {
   "cell_type": "markdown",
   "metadata": {},
   "source": [
    "### 4. String (str)\n",
    "String adalah tipe data yang digunakan untuk menyimpan teks. String dalam Python diapit dengan tanda kutip tunggal (') atau kutip ganda (\")."
   ]
  },
  {
   "cell_type": "code",
   "execution_count": null,
   "metadata": {},
   "outputs": [],
   "source": [
    "name = \"Mahdy\"\n",
    "message = 'Hello, World!'"
   ]
  },
  {
   "cell_type": "markdown",
   "metadata": {},
   "source": [
    "## Pemprograman Berorientasi Objek (OOP)\n",
    "Pemrograman Berorientasi Objek (Object-Oriented Programming / OOP) adalah cara pemrograman yang berfokus pada penggunaan objek dan kelas. Dalam OOP, data dan fungsi dikemas dalam satu kesatuan yang disebut objek.\n",
    "\n",
    "### Konsep Dasar OOP\n",
    "- Objek : entitas yang memiliki atribut (data) dan perilaku (metode/fungsi).\n",
    "- Kelas : blueprint atau cetak biru untuk membuat objek."
   ]
  },
  {
   "cell_type": "markdown",
   "metadata": {},
   "source": [
    "### Metode (function) dan Kelas (class)\n",
    "Kelas dideklarasikan menggunakan kata kunci class, sedangkan metode adalah fungsi yang didefinisikan dalam kelas dan beroperasi pada objek."
   ]
  },
  {
   "cell_type": "code",
   "execution_count": null,
   "metadata": {},
   "outputs": [],
   "source": [
    "class Kucing:\n",
    "    def __init__(self, nama, warna):\n",
    "        self.nama = nama    # Atribut nama\n",
    "        self.warna = warna  # Atribut warna\n",
    "\n",
    "    def meong(self): # Metode meong\n",
    "        print(f\"{self.nama} yang berwarna {self.warna} sedang mengeong!\")\n",
    "\n",
    "# Membuat objek dari kelas Kucing\n",
    "kucing1 = Kucing(\"Kitty\", \"Putih\")\n",
    "kucing2 = Kucing(\"Tom\", \"Hitam\")\n",
    "\n",
    "# Memanggil metode\n",
    "kucing1.meong()  # Output: Kitty yang berwarna Putih sedang mengeong!\n",
    "kucing2.meong()  # Output: Tom yang berwarna Hitam sedang mengeong!\n"
   ]
  },
  {
   "cell_type": "markdown",
   "metadata": {},
   "source": [
    "### Pewarisan (Inheritance)\n",
    "Pewarisan memungkinkan sebuah kelas baru mewarisi atribut dan metode dari kelas lain."
   ]
  },
  {
   "cell_type": "code",
   "execution_count": 1,
   "metadata": {},
   "outputs": [
    {
     "name": "stdout",
     "output_type": "stream",
     "text": [
      "Kitty sedang bergerak.\n",
      "Kitty mengeong!\n"
     ]
    }
   ],
   "source": [
    "class Hewan:\n",
    "    def __init__(self, nama):\n",
    "        self.nama = nama\n",
    "\n",
    "    def bergerak(self):\n",
    "        print(f\"{self.nama} sedang bergerak.\")\n",
    "\n",
    "# Pewarisan\n",
    "class Kucing(Hewan):\n",
    "    def suara(self):\n",
    "        print(f\"{self.nama} mengeong!\")\n",
    "\n",
    "# Membuat objek dari kelas Kucing\n",
    "kucing = Kucing(\"Kitty\")\n",
    "kucing.bergerak()  # Dari kelas Hewan\n",
    "kucing.suara()     # Dari kelas Kucing"
   ]
  },
  {
   "cell_type": "markdown",
   "metadata": {},
   "source": [
    "### Enkapsulasi (Encapsulation)\n",
    "Enkapsulasi adalah konsep dalam OOP yang menyembunyikan data agar tidak bisa diakses secara langsung.\n",
    "\n",
    "Tingkatan Akses dalam Python\n",
    "- Public → Bisa diakses dari luar kelas.\n",
    "- Protected (_nama) → Bisa diakses dalam kelas dan turunannya.\n",
    "- Private (_ _nama) → Hanya bisa diakses dalam kelas itu sendiri."
   ]
  },
  {
   "cell_type": "code",
   "execution_count": null,
   "metadata": {},
   "outputs": [],
   "source": [
    "class BankAccount:\n",
    "    def __init__(self, saldo):\n",
    "        self.__saldo = saldo  # Private attribute\n",
    "\n",
    "    def lihatSaldo(self):\n",
    "        print(f\"Saldo: {self.__saldo}\")\n",
    "\n",
    "    def tambahSaldo(self, jumlah):\n",
    "        self.__saldo += jumlah\n",
    "        print(f\"Saldo bertambah: {jumlah}\")\n",
    "\n",
    "# Membuat objek\n",
    "akun = BankAccount(1000)\n",
    "akun.lihatSaldo()       # Bisa diakses\n",
    "akun.tambahSaldo(500)   # Bisa diakses\n",
    "\n",
    "# print(akun.__saldo)   # Error: atribut ini private"
   ]
  },
  {
   "cell_type": "markdown",
   "metadata": {},
   "source": [
    "### Polimorfisme (Polymorphism)\n",
    "Polimorfisme memungkinkan metode yang sama digunakan oleh kelas yang berbeda."
   ]
  },
  {
   "cell_type": "code",
   "execution_count": null,
   "metadata": {},
   "outputs": [],
   "source": [
    "class Anjing:\n",
    "    def suara(self):\n",
    "        return \"Guk guk!\"\n",
    "\n",
    "class Kucing:\n",
    "    def suara(self):\n",
    "        return \"Meong!\"\n",
    "\n",
    "# Fungsi yang bisa menerima objek berbeda\n",
    "def buat_suara(hewan):\n",
    "    print(hewan.suara())\n",
    "\n",
    "# Membuat objek\n",
    "anjing = Anjing()\n",
    "kucing = Kucing()\n",
    "\n",
    "buat_suara(anjing)  # Output: Guk guk!\n",
    "buat_suara(kucing)  # Output: Meong!"
   ]
  },
  {
   "cell_type": "code",
   "execution_count": 4,
   "metadata": {},
   "outputs": [
    {
     "data": {
      "text/plain": [
       "'Jambangan'"
      ]
     },
     "execution_count": 4,
     "metadata": {},
     "output_type": "execute_result"
    }
   ],
   "source": [
    "my_list = [\"Mahdy\", \"Surabaya\", \"Jambangan\"]\n",
    "my_list[2]"
   ]
  },
  {
   "cell_type": "markdown",
   "metadata": {},
   "source": [
    "## Struktur Data : Array\n",
    "Array adalah kumpulan elemen dengan tipe data yang sama dan memiliki ukuran tetap. Elemen-elemen dalam array disimpan dalam memori komputer secara berurutan dan dapat diakses langsung menggunakan indeks.\n",
    "\n",
    "### Karakteristik utama array:\n",
    "- Homogen → Semua elemen dalam array memiliki tipe data yang sama.\n",
    "- Ukuran Tetap → Jumlah elemen dalam array harus ditentukan sejak awal.\n",
    "- Akses Langsung (Direct Access) → Setiap elemen dalam array dapat diakses langsung melalui indeks.\n",
    "\n",
    "Deklarasi Array dalam Pseudocode:"
   ]
  },
  {
   "cell_type": "code",
   "execution_count": null,
   "metadata": {
    "vscode": {
     "languageId": "javascript"
    }
   },
   "outputs": [],
   "source": [
    "let A = new Array(5);  // Array A dengan kapasitas 5 elemen integer\n",
    "var A = new Array(5);"
   ]
  },
  {
   "cell_type": "code",
   "execution_count": null,
   "metadata": {
    "vscode": {
     "languageId": "javascript"
    }
   },
   "outputs": [],
   "source": [
    "Int A[5];  // Array A dengan kapasitas 5 elemen integer"
   ]
  },
  {
   "cell_type": "markdown",
   "metadata": {},
   "source": [
    "### Operasi Dasar pada Array\n",
    "Terdapat dua jenis operasi pada array:\n",
    "#### Operasi pada satu elemen array\n",
    "- Menyimpan nilai ke posisi tertentu dalam array.\n",
    "- Mengambil nilai dari posisi tertentu dalam array.\n",
    "#### Operasi pada seluruh array\n",
    "- Menelusuri seluruh elemen array.\n",
    "- Melakukan pemrosesan pada semua elemen array."
   ]
  },
  {
   "cell_type": "code",
   "execution_count": null,
   "metadata": {
    "vscode": {
     "languageId": "javascript"
    }
   },
   "outputs": [],
   "source": [
    "A[10] = 78;   // Menyimpan angka 78 di indeks ke-10\n",
    "C = A[10];    // Mengambil nilai dari indeks ke-10 dan menyimpannya di variabel C"
   ]
  },
  {
   "cell_type": "markdown",
   "metadata": {},
   "source": [
    "### Kelebihan dan Kekurangan Array\n",
    "####  Kelebihan Array\n",
    "- Akses Acak Cepat (Random Access) <br>\n",
    "Setiap elemen dapat diakses langsung dengan indeks tanpa perlu melalui elemen lain.\n",
    "- Efisiensi Penyimpanan <br>\n",
    "Jika semua elemen harus disimpan dan tidak berubah, array adalah cara penyimpanan yang optimal.\n",
    "- Navigasi Mudah<br>\n",
    "Elemen tetangga dapat diakses dengan mudah menggunakan indeks berurutan.\n",
    "#### Kekurangan Array\n",
    "- Kurang Fleksibel<br>\n",
    "Ukuran array harus tetap dan tidak bisa diubah setelah deklarasi.\n",
    "- Hanya Bisa Menyimpan Tipe Data yang Sama<br>\n",
    "Tidak bisa mencampur integer, string, atau tipe lain dalam satu array.\n",
    "- Kurang Efisien dalam Operasi Penyisipan/Penghapusan<br>\n",
    "Jika ingin menambahkan atau menghapus elemen di tengah array, elemen-elemen lain harus digeser."
   ]
  },
  {
   "cell_type": "code",
   "execution_count": null,
   "metadata": {
    "vscode": {
     "languageId": "javascript"
    }
   },
   "outputs": [],
   "source": [
    "my_list = [\"Mahdy\", 2023, 3.5]"
   ]
  },
  {
   "cell_type": "markdown",
   "metadata": {},
   "source": [
    "## Struktur Data : Struct\n",
    "Struct (Singkatan dari Structure) adalah struktur data yang digunakan untuk menyimpan beberapa variabel dengan tipe data berbeda dalam satu entitas. Dalam banyak bahasa pemrograman, struct berfungsi seperti objek dalam OOP, tetapi tanpa fitur pewarisan atau metode kompleks.\n",
    "\n",
    "Karakteristik utama struct:\n",
    "- Dapat menyimpan berbagai tipe data dalam satu unit.\n",
    "- Setiap elemen dalam struct disebut \"field\" atau \"member\".\n",
    "- Membantu dalam mengorganisir data yang berkaitan secara lebih terstruktur.\n",
    "\n",
    "#### Contoh Penggunaan Struct dalam bahasa pemrograman C\n",
    "Misalkan kita ingin menyimpan informasi tanggal (day, month, year), kita dapat menggunakan struct seperti ini:"
   ]
  },
  {
   "cell_type": "raw",
   "metadata": {
    "vscode": {
     "languageId": "raw"
    }
   },
   "source": [
    "#include <stdio.h>\n",
    "\n",
    "struct Mahasiswa {\n",
    "    char nama[50];\n",
    "    int nim;\n",
    "    float ipk;\n",
    "};\n",
    "\n",
    "int main() {\n",
    "    struct Mahasiswa m1 = {\"Bagas\", 12345, 3.5};\n",
    "\n",
    "    printf(\"Nama: %s\\n\", m1.nama);\n",
    "    printf(\"NIM: %d\\n\", m1.nim);\n",
    "    printf(\"IPK: %.2f\\n\", m1.ipk);\n",
    "\n",
    "    return 0;\n",
    "}"
   ]
  },
  {
   "cell_type": "markdown",
   "metadata": {},
   "source": [
    "### Contoh Struct dalam Python\n",
    "Python tidak memiliki struct bawaan seperti C, tetapi menyediakan modul struct yang memungkinkan kita mengelola data dalam format biner."
   ]
  },
  {
   "cell_type": "code",
   "execution_count": 6,
   "metadata": {},
   "outputs": [
    {
     "name": "stdout",
     "output_type": "stream",
     "text": [
      "b'Bagas\\x00\\x00\\x00\\x00\\x00\\x00\\x0090\\x00\\x00\\x00\\x00`@'\n",
      "(b'Bagas\\x00\\x00\\x00\\x00\\x00', 12345, 3.5)\n"
     ]
    }
   ],
   "source": [
    "import struct\n",
    "\n",
    "# Mendefinisikan format struct\n",
    "fmt = \"10s i f\"  # 10 karakter string, 1 integer, 1 float\n",
    "\n",
    "# Membuat data\n",
    "data = struct.pack(fmt, b\"Bagas\", 12345, 3.5)\n",
    "\n",
    "# Menampilkan data dalam bentuk biner\n",
    "print(data)\n",
    "\n",
    "# Membaca kembali data\n",
    "unpacked_data = struct.unpack(fmt, data)\n",
    "print(unpacked_data)\n"
   ]
  },
  {
   "cell_type": "markdown",
   "metadata": {},
   "source": [
    "#### Format dalam struct Python\n",
    "<table>\n",
    "    <thead>\n",
    "        <tr>\n",
    "            <th>Kode</th>\n",
    "            <th>Tipe Data</th>\n",
    "            <th>Ukuran (Byte)</th>\n",
    "        </tr>\n",
    "    </thead>\n",
    "    <tbody>\n",
    "        <tr>\n",
    "            <td><b>i</b></td>\n",
    "            <td>Integer</td>\n",
    "            <td>4</td>\n",
    "        </tr>\n",
    "        <tr>\n",
    "            <td><b>f</b></td>\n",
    "            <td>Float</td>\n",
    "            <td>4</td>\n",
    "        </tr>\n",
    "        <tr>\n",
    "            <td><b>s</b></td>\n",
    "            <td>String</td>\n",
    "            <td>8</td>\n",
    "        </tr>\n",
    "    </tbody>\n",
    "</table>"
   ]
  },
  {
   "cell_type": "markdown",
   "metadata": {},
   "source": [
    "### Contoh Struct"
   ]
  },
  {
   "cell_type": "code",
   "execution_count": 7,
   "metadata": {},
   "outputs": [],
   "source": [
    "import struct\n",
    "\n",
    "# Format struct: Nama (30 karakter), NIM (integer), IPK (float)\n",
    "fmt = \"30s i f\"\n",
    "\n",
    "# Data mahasiswa\n",
    "mahasiswa = [(\"Bagas\", 12345, 3.5),\n",
    "             (\"Rahman\", 12346, 3.75)]\n",
    "\n",
    "# Menulis data ke file biner\n",
    "with open(\"mahasiswa.bin\", \"wb\") as file:\n",
    "    for mhs in mahasiswa:\n",
    "        file.write(struct.pack(fmt, mhs[0].encode(), mhs[1], mhs[2]))"
   ]
  },
  {
   "cell_type": "code",
   "execution_count": null,
   "metadata": {},
   "outputs": [
    {
     "name": "stdout",
     "output_type": "stream",
     "text": [
      "Nama: Bagas\u0000\u0000\u0000\u0000\u0000\u0000\u0000\u0000\u0000\u0000\u0000\u0000\u0000\u0000\u0000\u0000\u0000\u0000\u0000\u0000\u0000\u0000\u0000\u0000\u0000, NIM: 12345, IPK: 3.5\n",
      "Nama: Rahman\u0000\u0000\u0000\u0000\u0000\u0000\u0000\u0000\u0000\u0000\u0000\u0000\u0000\u0000\u0000\u0000\u0000\u0000\u0000\u0000\u0000\u0000\u0000\u0000, NIM: 12346, IPK: 3.75\n"
     ]
    }
   ],
   "source": [
    "# Membaca data dari file biner\n",
    "with open(\"mahasiswa.bin\", \"rb\") as file:\n",
    "    while data := file.read(struct.calcsize(fmt)):\n",
    "        unpacked = struct.unpack(fmt, data)\n",
    "        print(f\"Nama: {unpacked[0].decode()}, NIM: {unpacked[1]}, IPK: {unpacked[2]}\")"
   ]
  },
  {
   "cell_type": "markdown",
   "metadata": {},
   "source": [
    "### Perbedaan Struct dan List\n",
    "Dalam Python, penggunaan struct dan list memiliki perbedaan mendasar dalam hal struktur data, penggunaan memori, dan kecepatan operasi. Berikut adalah perbedaan utama:\n",
    "#### List\n",
    "- Tipe Data Dinamis: list di Python dapat menyimpan berbagai tipe data sekaligus dalam satu list.\n",
    "- Struktur Fleksibel: Bisa diubah setelah dibuat, seperti menambah atau menghapus elemen.\n",
    "- Overhead Memori Lebih Besar: Karena setiap elemen dalam list adalah objek Python, ada overhead tambahan untuk menyimpan metadata.\n",
    "- Digunakan untuk Pengelolaan Data Umum: Cocok untuk menyimpan sekumpulan elemen yang dapat berubah atau memiliki tipe data yang berbeda."
   ]
  },
  {
   "cell_type": "code",
   "execution_count": 10,
   "metadata": {},
   "outputs": [
    {
     "name": "stdout",
     "output_type": "stream",
     "text": [
      "hello\n"
     ]
    }
   ],
   "source": [
    "my_list = [1, 3.14, \"hello\", True, {\"name\": \"Mahdy\"}, (1, 2, 3)]\n",
    "print(my_list[2])  # Output: hello"
   ]
  },
  {
   "cell_type": "markdown",
   "metadata": {},
   "source": [
    "#### Struct (struct module)\n",
    "- Tipe Data Statis: Menggunakan struct berarti data harus memiliki format tetap dengan tipe data tertentu.\n",
    "- Lebih Hemat Memori: Data disimpan dalam format biner, sehingga lebih efisien dibandingkan list.\n",
    "- Lebih Cepat untuk Data yang Terstruktur: Karena tidak memiliki overhead metadata seperti list, operasi pembacaan dan penulisan lebih cepat.\n",
    "- Digunakan untuk Berinteraksi dengan Data Biner: Biasanya digunakan untuk membaca atau menulis data dalam format biner, misalnya dari file atau jaringan."
   ]
  },
  {
   "cell_type": "markdown",
   "metadata": {},
   "source": [
    "### Kapan menggunakan list atau struct?\n",
    "<table>\n",
    "    <thead>\n",
    "        <tr>\n",
    "            <th>Kriteria</th>\n",
    "            <th>List</th>\n",
    "            <th>Struct</th>\n",
    "        </tr>\n",
    "    </thead>\n",
    "    <tbody>\n",
    "        <tr>\n",
    "            <td>Penyimpanan fleksibel</td>\n",
    "            <td>✅</td>\n",
    "            <td>❌</td>\n",
    "        </tr>\n",
    "        <tr>\n",
    "            <td>Efisiense memori</td>\n",
    "            <td>❌</td>\n",
    "            <td>✅</td>\n",
    "        </tr>\n",
    "        <tr>\n",
    "            <td>Kecepatan akses</td>\n",
    "            <td>❌</td>\n",
    "            <td>✅</td>\n",
    "        </tr>\n",
    "        <tr>\n",
    "            <td>Bisa menyimpan berbagai tipe data</td>\n",
    "            <td>✅</td>\n",
    "            <td>❌</td>\n",
    "        </tr>\n",
    "        <tr>\n",
    "            <td>Cocok untuk data biner</td>\n",
    "            <td>❌</td>\n",
    "            <td>✅</td>\n",
    "        </tr>\n",
    "    </tbody>\n",
    "</table>"
   ]
  },
  {
   "cell_type": "markdown",
   "metadata": {},
   "source": [
    "### Perbandingan Penggunaan Memori Struct dan List"
   ]
  },
  {
   "cell_type": "code",
   "execution_count": 18,
   "metadata": {},
   "outputs": [
    {
     "name": "stdout",
     "output_type": "stream",
     "text": [
      "Ukuran memori data yang digunakan: 53 bytes\n"
     ]
    }
   ],
   "source": [
    "import struct\n",
    "import sys\n",
    "import tracemalloc\n",
    "\n",
    "tracemalloc.start()\n",
    "\n",
    "# Mendefinisikan format struct\n",
    "fmt = \"10s i f\"  # 10 karakter string, 1 integer, 1 float\n",
    "\n",
    "# Membuat data\n",
    "snapshot1 = tracemalloc.take_snapshot()\n",
    "data = struct.pack(fmt, b\"Bagas\", 12345, 3.5)\n",
    "print(f\"Ukuran memori data yang digunakan: {sys.getsizeof(data)} bytes\")\n",
    "\n",
    "\n",
    "tracemalloc.stop()"
   ]
  },
  {
   "cell_type": "code",
   "execution_count": 19,
   "metadata": {},
   "outputs": [
    {
     "name": "stdout",
     "output_type": "stream",
     "text": [
      "Ukuran memori data yang digunakan: 194 bytes\n"
     ]
    }
   ],
   "source": [
    "import sys\n",
    "\n",
    "mahasiswa = [\"Bagas\", 12345, 3.5]\n",
    "\n",
    "# Menghitung ukuran memori setiap elemen\n",
    "total_size = sys.getsizeof(my_list)\n",
    "for item in my_list:\n",
    "    total_size += sys.getsizeof(item)\n",
    "\n",
    "print(f\"Ukuran memori data yang digunakan: {total_size} bytes\")\n"
   ]
  }
 ],
 "metadata": {
  "kernelspec": {
   "display_name": "analytics",
   "language": "python",
   "name": "python3"
  },
  "language_info": {
   "codemirror_mode": {
    "name": "ipython",
    "version": 3
   },
   "file_extension": ".py",
   "mimetype": "text/x-python",
   "name": "python",
   "nbconvert_exporter": "python",
   "pygments_lexer": "ipython3",
   "version": "3.11.8"
  }
 },
 "nbformat": 4,
 "nbformat_minor": 2
}
