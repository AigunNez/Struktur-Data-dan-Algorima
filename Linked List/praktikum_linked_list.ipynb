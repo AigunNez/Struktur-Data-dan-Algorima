{
 "cells": [
  {
   "cell_type": "markdown",
   "metadata": {},
   "source": [
    "# Single Linked List Non Circular"
   ]
  },
  {
   "cell_type": "code",
   "execution_count": 77,
   "metadata": {},
   "outputs": [],
   "source": [
    "class Node:\n",
    "    def __init__(self, data):\n",
    "        self.data = data      # Menyimpan data\n",
    "        self.next = None      # Menunjuk ke node berikutnya\n",
    "        \n",
    "class LinkedList:\n",
    "    def __init__(self):\n",
    "        self.head = None      # Menunjuk ke node pertama (head)\n",
    "        \n",
    "    def printList(self):\n",
    "        if self.head is None:\n",
    "            print(\"List kosong.\")\n",
    "            return\n",
    "        \n",
    "        temp = self.head\n",
    "        while temp:\n",
    "            print(f\"{temp.data}\", end=' -> ')\n",
    "            temp = temp.next\n",
    "    \n",
    "    def push(self, new_data):\n",
    "        new_node = Node(new_data)     # Buat node baru\n",
    "        new_node.next = self.head     # Arahkan node baru ke head lama\n",
    "        self.head = new_node     \n",
    "        \n",
    "    def append(self, new_data):\n",
    "        new_node = Node(new_data)       # Buat node baru\n",
    "        if self.head is None:           # Jika list kosong\n",
    "            self.head = new_node\n",
    "            return\n",
    "        last = self.head\n",
    "        while last.next:                # Telusuri hingga node terakhir\n",
    "            last = last.next\n",
    "        last.next = new_node   \n",
    "        \n",
    "    def insertAfter(self, prev_node, new_data):\n",
    "        if prev_node is None:\n",
    "            print(\"Node sebelumnya tidak ditemukan.\")\n",
    "            return\n",
    "        new_node = Node(new_data)\n",
    "        new_node.next = prev_node.next\n",
    "        prev_node.next = new_node\n",
    "\n",
    "    def removeBegin(self):\n",
    "        if self.head is None:\n",
    "            print(\"List kosong, tidak ada yang bisa dihapus.\")\n",
    "            return\n",
    "        # removed_data = self.head.data\n",
    "        self.head = self.head.next\n",
    "        print(f\"Data telah dihapus dari depan.\")\n",
    "\n",
    "    def removeEnd(self):\n",
    "        if self.head is None:\n",
    "            print(\"List kosong, tidak ada yang bisa dihapus.\")\n",
    "            return\n",
    "        if self.head.next is None:\n",
    "            removed_data = self.head.data\n",
    "            self.head = None\n",
    "            print(f\"Data {removed_data} telah dihapus dari belakang (satu-satunya node).\")\n",
    "            return\n",
    "        \n",
    "        bantu = self.head\n",
    "        while bantu.next.next:\n",
    "            bantu = bantu.next\n",
    "        removed_data = bantu.next.data\n",
    "        bantu.next = None\n",
    "        print(f\"Data {removed_data} telah dihapus dari belakang.\")\n"
   ]
  },
  {
   "cell_type": "code",
   "execution_count": 78,
   "metadata": {},
   "outputs": [],
   "source": [
    "llist = LinkedList()\n",
    "llist.head = Node(1)         # Node pertama\n",
    "second = Node(2)          # Node kedua\n",
    "third = Node(3)         # Node ketiga\n",
    "\n",
    "llist.head.next = second    # Hubungkan node pertama ke kedua\n",
    "second.next = third          # Hubungkan node kedua ke ketiga"
   ]
  },
  {
   "cell_type": "code",
   "execution_count": 79,
   "metadata": {},
   "outputs": [
    {
     "name": "stdout",
     "output_type": "stream",
     "text": [
      "1 -> 2 -> 3 -> "
     ]
    }
   ],
   "source": [
    "llist.printList()"
   ]
  },
  {
   "cell_type": "code",
   "execution_count": 80,
   "metadata": {},
   "outputs": [
    {
     "name": "stdout",
     "output_type": "stream",
     "text": [
      "5 -> 1 -> 2 -> 3 -> "
     ]
    }
   ],
   "source": [
    "llist.push(5)\n",
    "llist.printList()"
   ]
  },
  {
   "cell_type": "code",
   "execution_count": 81,
   "metadata": {},
   "outputs": [
    {
     "name": "stdout",
     "output_type": "stream",
     "text": [
      "5 -> 1 -> 2 -> 3 -> 7 -> "
     ]
    }
   ],
   "source": [
    "llist.append(7)\n",
    "llist.printList()"
   ]
  },
  {
   "cell_type": "code",
   "execution_count": 82,
   "metadata": {},
   "outputs": [
    {
     "name": "stdout",
     "output_type": "stream",
     "text": [
      "5 -> 1 -> 15 -> 2 -> 3 -> 7 -> "
     ]
    }
   ],
   "source": [
    "llist.insertAfter(llist.head.next, 15)\n",
    "llist.printList()"
   ]
  },
  {
   "cell_type": "code",
   "execution_count": 83,
   "metadata": {},
   "outputs": [
    {
     "name": "stdout",
     "output_type": "stream",
     "text": [
      "Data telah dihapus dari depan.\n",
      "1 -> 15 -> 2 -> 3 -> 7 -> "
     ]
    }
   ],
   "source": [
    "llist.removeBegin()\n",
    "llist.printList()"
   ]
  },
  {
   "cell_type": "code",
   "execution_count": 84,
   "metadata": {},
   "outputs": [
    {
     "name": "stdout",
     "output_type": "stream",
     "text": [
      "Data 7 telah dihapus dari belakang.\n",
      "1 -> 15 -> 2 -> 3 -> "
     ]
    }
   ],
   "source": [
    "llist.removeEnd()\n",
    "llist.printList()"
   ]
  },
  {
   "cell_type": "markdown",
   "metadata": {},
   "source": [
    "# Double Linked List Non Circular (DLLNC)"
   ]
  },
  {
   "cell_type": "code",
   "execution_count": 86,
   "metadata": {},
   "outputs": [],
   "source": [
    "class TwoWayNode:\n",
    "    def __init__(self, data, previous=None, next=None):\n",
    "        self.data = data\n",
    "        self.previous = previous\n",
    "        self.next = next"
   ]
  },
  {
   "cell_type": "code",
   "execution_count": 114,
   "metadata": {},
   "outputs": [],
   "source": [
    "class DoubleLinkedList:\n",
    "    def __init__(self):\n",
    "        self.head = None\n",
    "        self.tail = None\n",
    "        \n",
    "    def printList(self):\n",
    "        temp = self.head\n",
    "        while temp:\n",
    "            print(f'{temp.data}', end=' => ')\n",
    "            temp = temp.next\n",
    "            \n",
    "    def insertAfter(self, prev_node, data):\n",
    "        if prev_node is None:\n",
    "            print(\"Node sebelumnya tidak ditemukan.\")\n",
    "            return\n",
    "        new_node = TwoWayNode(data, previous=prev_node, next=prev_node.next)\n",
    "        if prev_node.next is not None:\n",
    "            prev_node.next.previous = new_node\n",
    "        prev_node.next = new_node\n",
    "\n",
    "    def remove(self, node):\n",
    "        if node.previous:\n",
    "            node.previous.next = node.next\n",
    "        if node.next:\n",
    "            node.next.previous = node.previous\n",
    "        node.previous = None\n",
    "        node.next = None\n"
   ]
  },
  {
   "cell_type": "code",
   "execution_count": 115,
   "metadata": {},
   "outputs": [],
   "source": [
    "dllist = DoubleLinkedList()\n",
    "\n",
    "first = TwoWayNode(10)\n",
    "dllist.head = dllist.tail = first\n",
    "\n",
    "second = TwoWayNode(25, previous=first)\n",
    "first.next = second\n",
    "dllist.tail = second\n",
    "\n",
    "third = TwoWayNode(37, previous=second)\n",
    "second.next = third\n",
    "dllist.tail = third"
   ]
  },
  {
   "cell_type": "code",
   "execution_count": 116,
   "metadata": {},
   "outputs": [
    {
     "name": "stdout",
     "output_type": "stream",
     "text": [
      "10 => 25 => 37 => "
     ]
    }
   ],
   "source": [
    "dllist.printList()"
   ]
  },
  {
   "cell_type": "code",
   "execution_count": 117,
   "metadata": {},
   "outputs": [],
   "source": [
    "dllist.insertAfter(first, 45)"
   ]
  },
  {
   "cell_type": "code",
   "execution_count": 118,
   "metadata": {},
   "outputs": [
    {
     "name": "stdout",
     "output_type": "stream",
     "text": [
      "10 => 45 => 25 => 37 => "
     ]
    }
   ],
   "source": [
    "dllist.printList()"
   ]
  },
  {
   "cell_type": "code",
   "execution_count": 119,
   "metadata": {},
   "outputs": [],
   "source": [
    "dllist.remove(second)"
   ]
  },
  {
   "cell_type": "code",
   "execution_count": 120,
   "metadata": {},
   "outputs": [
    {
     "name": "stdout",
     "output_type": "stream",
     "text": [
      "10 => 45 => 37 => "
     ]
    }
   ],
   "source": [
    "dllist.printList()"
   ]
  },
  {
   "cell_type": "markdown",
   "metadata": {},
   "source": [
    "# Single Linked List Circular"
   ]
  },
  {
   "cell_type": "code",
   "execution_count": null,
   "metadata": {},
   "outputs": [],
   "source": [
    "class Node:\n",
    "    def __init__(self, data):\n",
    "        self.data = data\n",
    "        self.next = None\n",
    "        \n",
    "class CircularLinkedList:\n",
    "    def __init__(self):\n",
    "        self.head = None\n",
    "\n",
    "    # Menambahkan data di akhir list\n",
    "    def append(self, data):\n",
    "        new_node = Node(data)\n",
    "        if not self.head:\n",
    "            self.head = new_node\n",
    "            new_node.next = new_node  # mengarah ke dirinya sendiri\n",
    "        else:\n",
    "            temp = self.head\n",
    "            while temp.next != self.head:\n",
    "                temp = temp.next\n",
    "            temp.next = new_node\n",
    "            new_node.next = self.head\n",
    "\n",
    "    # Menampilkan isi list\n",
    "    def printList(self):\n",
    "        if not self.head:\n",
    "            print(\"List kosong.\")\n",
    "            return\n",
    "        temp = self.head\n",
    "        while True:\n",
    "            print(f\"Data: {temp.data}\")\n",
    "            temp = temp.next\n",
    "            # if temp == self.head:\n",
    "            #     break"
   ]
  },
  {
   "cell_type": "code",
   "execution_count": 2,
   "metadata": {},
   "outputs": [
    {
     "name": "stdout",
     "output_type": "stream",
     "text": [
      "Data: 10\n",
      "Data: 20\n",
      "Data: 30\n",
      "Data: 40\n"
     ]
    }
   ],
   "source": [
    "cll = CircularLinkedList()\n",
    "cll.append(10)\n",
    "cll.append(20)\n",
    "cll.append(30)\n",
    "cll.append(40)\n",
    "cll.printList()"
   ]
  }
 ],
 "metadata": {
  "kernelspec": {
   "display_name": "analytics",
   "language": "python",
   "name": "python3"
  },
  "language_info": {
   "codemirror_mode": {
    "name": "ipython",
    "version": 3
   },
   "file_extension": ".py",
   "mimetype": "text/x-python",
   "name": "python",
   "nbconvert_exporter": "python",
   "pygments_lexer": "ipython3",
   "version": "3.11.8"
  }
 },
 "nbformat": 4,
 "nbformat_minor": 2
}
