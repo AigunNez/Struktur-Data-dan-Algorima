{
 "cells": [
  {
   "cell_type": "markdown",
   "id": "09847e48",
   "metadata": {},
   "source": [
    "# Algoritma Pencarian: Linear Search\n",
    "\n",
    "Algoritma Linear Search ini bekerja dengan memeriksa setiap elemen dalam struktur data satu per satu hingga menemukan elemen yang dicari atau mencapai akhir data.\n"
   ]
  },
  {
   "cell_type": "markdown",
   "id": "96bd40e2",
   "metadata": {},
   "source": [
    "## Teori Linear Search\n",
    "\n",
    "**Linear Search**, juga dikenal sebagai *Sequential Search*, adalah algoritma pencarian sederhana yang bekerja dengan cara:\n",
    "- Memeriksa setiap elemen dari awal hingga akhir.\n",
    "- Jika elemen cocok dengan target, maka indeks elemen dikembalikan.\n",
    "- Jika tidak ditemukan, maka hasil pencarian adalah `None`.\n",
    "\n",
    "### Kompleksitas Waktu:\n",
    "- Best case: $O(1)$\n",
    "- Average case: $O(n)$\n",
    "- Worst case: $O(n)$ \n"
   ]
  },
  {
   "cell_type": "markdown",
   "id": "40249365",
   "metadata": {},
   "source": [
    "# Algoritma Pencarian: Binary Search\n",
    "\n",
    "*Binary Search* adalah algoritma pencarian yang jauh lebih efisien dibanding Linear Search, tetapi memerlukan syarat bahwa data harus **sudah terurut**. Algoritma ini menggunakan pendekatan *divide and conquer*.\n"
   ]
  },
  {
   "cell_type": "markdown",
   "id": "bd8199a4",
   "metadata": {},
   "source": [
    "## Teori Binary Search\n",
    "\n",
    "**Binary Search** bekerja dengan cara:\n",
    "1. Menentukan elemen tengah dari array yang terurut.\n",
    "2. Membandingkan elemen tengah dengan elemen yang dicari.\n",
    "3. Jika cocok → indeks dikembalikan.\n",
    "4. Jika lebih kecil → pencarian dilanjutkan ke bagian kiri array.\n",
    "5. Jika lebih besar → pencarian dilanjutkan ke bagian kanan array.\n",
    "6. Diulang sampai ditemukan atau ruang pencarian habis.\n",
    "\n",
    "### Kompleksitas Waktu:\n",
    "- Best case: $O(1)$\n",
    "- Average case: $O(\\log n)$\n",
    "- Worst case: $O(\\log n)$\n"
   ]
  },
  {
   "cell_type": "markdown",
   "id": "f7a292e4",
   "metadata": {},
   "source": [
    "# Algoritma Pencarian: Jump Search\n",
    "\n",
    "*Jump Search* adalah algoritma pencarian yang menggabungkan kelebihan dari Linear Search dan Binary Search. Cocok digunakan untuk array yang **sudah terurut**.\n"
   ]
  },
  {
   "cell_type": "markdown",
   "id": "dfb8635a",
   "metadata": {},
   "source": [
    "## Teori Jump Search\n",
    "\n",
    "**Jump Search** bekerja dengan cara:\n",
    "- Melompat pada interval tertentu di array (misalnya √n).\n",
    "- Ketika menemukan elemen yang lebih besar dari target atau akhir array, ia kembali ke blok sebelumnya.\n",
    "- Melakukan pencarian linear dalam blok tersebut.\n",
    "\n",
    "### Langkah-langkah:\n",
    "1. Tentukan panjang array `n`.\n",
    "2. Hitung ukuran blok `m = √n`.\n",
    "3. Lompat sebanyak `m` hingga melewati target.\n",
    "4. Lakukan linear search mundur di blok sebelumnya.\n",
    "\n",
    "### Kompleksitas Waktu:\n",
    "- Best case: $O(1)$\n",
    "- Average & Worst case: $O(\\sqrt{n})$\n"
   ]
  },
  {
   "cell_type": "markdown",
   "id": "2e90ab48",
   "metadata": {},
   "source": [
    "# Algoritma Pencarian: Exponential Search\n",
    "\n",
    "*Exponential Search* atau *Galloping Search* adalah algoritma pencarian yang digunakan untuk mencari elemen pada array **yang sudah terurut**. Algoritma ini sangat efisien jika elemen yang dicari dekat dengan awal array.\n"
   ]
  },
  {
   "cell_type": "markdown",
   "id": "d75465c0",
   "metadata": {},
   "source": [
    "## Teori Exponential Search\n",
    "\n",
    "**Exponential Search** bekerja dalam dua tahap:\n",
    "1. Menemukan rentang pencarian menggunakan eksponensial (1, 2, 4, 8, ...).\n",
    "2. Melakukan *Binary Search* pada rentang tersebut.\n",
    "\n",
    "### Langkah-langkah:\n",
    "1. Jika elemen pertama adalah target, langsung dikembalikan.\n",
    "2. Tentukan rentang dengan memperbesar `bound` hingga `arr[bound] >= x` atau melebihi ukuran array.\n",
    "3. Lakukan Binary Search pada rentang `[bound/2, bound]`.\n",
    "\n",
    "### Kompleksitas Waktu:\n",
    "- Best case: $O(1)$\n",
    "- Average & Worst case: $O(\\log n)$\n"
   ]
  },
  {
   "cell_type": "markdown",
   "id": "0a1e5cfd",
   "metadata": {},
   "source": [
    "# Algoritma Pencarian: Interpolation Search\n",
    "\n",
    "*Interpolation Search* adalah algoritma pencarian yang menggunakan pendekatan perkiraan posisi berdasarkan distribusi data. Algoritma ini merupakan penyempurnaan dari Binary Search, namun bekerja optimal pada data yang **terdistribusi secara uniform** dan **sudah terurut**.\n"
   ]
  },
  {
   "cell_type": "markdown",
   "id": "8e6439f5",
   "metadata": {},
   "source": [
    "## Teori Interpolation Search\n",
    "\n",
    "**Interpolation Search** bekerja dengan rumus langkah-langkah berikut\n",
    "\n",
    "### Langkah-langkah:\n",
    "1. Tetapkan `low` dan `high`.\n",
    "2. Hitung `pos` dengan rumus di atas.\n",
    "3. Bandingkan `arr[pos]` dengan `x`:\n",
    "   - Jika cocok, kembalikan indeks `pos`.\n",
    "   - Jika `x < arr[pos]`, lanjut pencarian di kiri.\n",
    "   - Jika `x > arr[pos]`, lanjut pencarian di kanan.\n",
    "4. Ulangi sampai elemen ditemukan atau batas tidak valid.\n",
    "\n",
    "### Kompleksitas Waktu:\n",
    "- Best case: $O(1)$\n",
    "- Average case: $O(\\log \\log n)$ (jika distribusi uniform)\n",
    "- Worst case: $O(n)$ (jika distribusi tidak merata)\n"
   ]
  },
  {
   "cell_type": "markdown",
   "id": "5d74834d",
   "metadata": {},
   "source": [
    "# Algoritma Pencarian: Fibonacci Search\n",
    "\n",
    "*Fibonacci Search* adalah algoritma pencarian yang menggunakan pendekatan *divide and conquer* seperti Binary Search, namun memanfaatkan bilangan Fibonacci untuk menentukan rentang pencarian.\n"
   ]
  },
  {
   "cell_type": "markdown",
   "id": "8295c9e7",
   "metadata": {},
   "source": [
    "## Teori Fibonacci Search\n",
    "\n",
    "**Fibonacci Search** menggunakan deret Fibonacci dalam penentuan blok pencarian:\n",
    "- Angka Fibonacci: 0, 1, 1, 2, 3, 5, 8, 13, 21, ...\n",
    "\n",
    "### Langkah-langkah:\n",
    "1. Temukan angka Fibonacci terkecil yang lebih besar atau sama dengan panjang array.\n",
    "2. Tetapkan tiga bilangan Fibonacci: `fibM`, `fibM_minus_1`, dan `fibM_minus_2`.\n",
    "3. Tentukan posisi pencarian menggunakan indeks `i = min(offset + fibM_minus_2, n-1)`.\n",
    "4. Jika `arr[i] < x`, pindah ke sebelah kanan.\n",
    "5. Jika `arr[i] > x`, pindah ke sebelah kiri.\n",
    "6. Jika cocok, kembalikan indeks `i`.\n",
    "\n",
    "### Kompleksitas Waktu:\n",
    "- Best case: $O(1)$\n",
    "- Average & Worst case: $O(\\log n)$\n"
   ]
  }
 ],
 "metadata": {
  "kernelspec": {
   "display_name": "analytics",
   "language": "python",
   "name": "python3"
  },
  "language_info": {
   "codemirror_mode": {
    "name": "ipython",
    "version": 3
   },
   "file_extension": ".py",
   "mimetype": "text/x-python",
   "name": "python",
   "nbconvert_exporter": "python",
   "pygments_lexer": "ipython3",
   "version": "3.11.8"
  }
 },
 "nbformat": 4,
 "nbformat_minor": 5
}
