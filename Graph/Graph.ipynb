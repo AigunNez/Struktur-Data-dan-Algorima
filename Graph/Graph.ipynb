{
 "cells": [
  {
   "cell_type": "markdown",
   "id": "57289096",
   "metadata": {},
   "source": [
    "# Graph Data Structure"
   ]
  },
  {
   "cell_type": "markdown",
   "id": "f5ea6309",
   "metadata": {},
   "source": [
    "\n",
    "### Struktur Data: Review\n",
    "\n",
    "**Struktur Data** adalah cara kita menyimpan dan mengatur data untuk keperluan pengolahan yang efisien.\n",
    "Pada struktur data linear, **data disusun secara berurutan**.\n"
   ]
  },
  {
   "cell_type": "markdown",
   "id": "112dcce5",
   "metadata": {},
   "source": [
    "\n",
    "### Kenapa Butuh Struktur Data Non-Linear?\n",
    "\n",
    "Bagaimana jika data **tidak** dapat disusun secara linier?\n",
    "Misalnya:\n",
    "- Rute transportasi dalam kota\n",
    "- Relasi antar pengguna dalam jejaring sosial\n",
    "\n",
    "Untuk data yang tidak linear, kita menggunakan **Struktur Data Non-Linear** seperti:\n",
    "- **Tree**\n",
    "- **Graph**\n"
   ]
  },
  {
   "cell_type": "markdown",
   "id": "3e1b79c5",
   "metadata": {},
   "source": [
    "\n",
    "### Definisi Graph\n",
    "\n",
    "- **Graph** adalah kumpulan objek (disebut **vertex** atau **node**) yang dihubungkan oleh **edges** (sisi).\n",
    "- Graph berguna untuk **merepresentasikan hubungan kompleks** antar objek.\n",
    "\n",
    "**Contoh aplikasi graph:**\n",
    "- **Jejaring sosial** (misal Facebook, Instagram)\n",
    "- **Jaringan komputer** (misal jaringan LAN, internet)"
   ]
  },
  {
   "cell_type": "markdown",
   "id": "66cb542c",
   "metadata": {},
   "source": [
    "## Definisi Dasar"
   ]
  },
  {
   "cell_type": "markdown",
   "id": "c91c337e",
   "metadata": {},
   "source": [
    "\n",
    "### Apa itu Graph?\n",
    "\n",
    "- **Graph** adalah kumpulan dari **vertex** (simpul) dan **edge** (sisi) yang menghubungkan pasangan vertex.\n",
    "- Graph digunakan untuk merepresentasikan berbagai **relasi antar objek** di dunia nyata.\n",
    "\n",
    "**Komponen utama:**\n",
    "- **Vertex (Node)**: Titik-titik dalam graph (misal: kota, orang, komputer)\n",
    "- **Edge (Sisi)**: Garis yang menghubungkan dua vertex (misal: jalan)\n",
    "\n",
    "---\n"
   ]
  },
  {
   "cell_type": "markdown",
   "id": "1997bd72",
   "metadata": {},
   "source": [
    "\n",
    "### Edges (Sisi) dalam Graph\n",
    "\n",
    "Edges adalah koneksi atau hubungan antara dua vertex dalam sebuah graph.\n",
    "\n",
    "### Tipe Edge Berdasarkan Arah:\n",
    "\n",
    "1. **Directed Edge**:\n",
    "   - Menunjukkan hubungan satu arah dari satu vertex ke vertex lainnya.\n",
    "   - Contoh: Notifikasi aplikasi\n",
    "\n",
    "2. **Undirected Edge**:\n",
    "   - Menunjukkan hubungan dua arah tanpa arah tetap.\n",
    "   - Contoh: A dan B adalah teman.\n",
    "\n",
    "---\n"
   ]
  },
  {
   "cell_type": "markdown",
   "id": "f1f54fa9",
   "metadata": {},
   "source": [
    "\n",
    "### Visualisasi\n",
    "\n",
    "- **Directed Edge:**\n",
    "\n",
    "```\n",
    "A ---> B\n",
    "```\n",
    "\n",
    "- **Undirected Edge:**\n",
    "\n",
    "```\n",
    "A --- B\n",
    "```\n"
   ]
  },
  {
   "cell_type": "markdown",
   "id": "a76eaeb2",
   "metadata": {},
   "source": [
    "\n",
    "### Kenapa Edge Penting?\n",
    "\n",
    "- Menentukan **arah informasi** (penting untuk aplikasi seperti web crawling, follow system).\n",
    "- Membantu dalam **analisis jaringan** seperti mencari jalur terpendek, pencarian teman, penyebaran virus.\n",
    "\n",
    "---\n"
   ]
  },
  {
   "cell_type": "markdown",
   "id": "724227b5",
   "metadata": {},
   "source": [
    "## Jenis-Jenis Graph"
   ]
  },
  {
   "cell_type": "markdown",
   "id": "5ec4f24c",
   "metadata": {},
   "source": [
    "Berikut beberapa jenis graph berdasarkan karakteristiknya:\n",
    "\n",
    "1. **Directed Graph (Digraph)**\n",
    "   - Semua edges memiliki arah.\n",
    "\n",
    "2. **Undirected Graph**\n",
    "   - Semua edges tidak memiliki arah tetap.\n",
    "\n",
    "3. **Null Graph**\n",
    "   - Hanya ada vertex tanpa edge.\n",
    "\n",
    "4. **Trivial Graph**\n",
    "   - Hanya satu vertex dan tidak ada edge.\n",
    "\n",
    "5. **Connected Graph**\n",
    "   - Setiap vertex dapat dijangkau dari vertex lain melalui satu atau lebih edge.\n",
    "\n",
    "6. **Disconnected Graph**\n",
    "   - Ada vertex yang tidak bisa dijangkau dari vertex lain.\n",
    "\n",
    "---\n"
   ]
  },
  {
   "cell_type": "markdown",
   "id": "3fadd320",
   "metadata": {},
   "source": [
    "\n",
    "### Lanjutan Jenis-Jenis Graph\n",
    "\n",
    "7. **K-Regular Graph**\n",
    "   - Semua vertex memiliki derajat (jumlah koneksi) yang sama yaitu K.\n",
    "\n",
    "8. **Complete Graph**\n",
    "   - Setiap pasangan vertex terhubung langsung.\n",
    "\n",
    "9. **Cycle Graph**\n",
    "   - Semua vertex membentuk satu siklus, setiap vertex terhubung ke dua vertex lainnya.\n",
    "\n",
    "10. **Cyclic Graph**\n",
    "    - Graph yang mengandung setidaknya satu siklus.\n",
    "\n",
    "11. **Simple Graph**\n",
    "    - Tidak ada lebih dari satu edge antara dua vertex.\n",
    "\n",
    "12. **Multi Graph**\n",
    "    - Dua vertex bisa dihubungkan oleh lebih dari satu edge (parallel edge), namun tanpa self-loop.\n",
    "\n",
    "---\n"
   ]
  },
  {
   "cell_type": "markdown",
   "id": "5f4a271b",
   "metadata": {},
   "source": [
    "## Contoh Graph Dunia Nyata"
   ]
  },
  {
   "cell_type": "markdown",
   "id": "5dadf1c2",
   "metadata": {},
   "source": [
    "\n",
    "### Graph dalam Dunia Nyata\n",
    "\n",
    "Graph sangat banyak digunakan untuk merepresentasikan berbagai hubungan antar objek dalam kehidupan sehari-hari.\n",
    "\n",
    "---\n",
    "\n",
    "### Contoh Kasus:\n",
    "\n",
    "1. **Jejaring Sosial (Facebook, Instagram, TikTok)**\n",
    "   - **Vertex**: Setiap pengguna (user).\n",
    "   - **Edge**: Hubungan pertemanan atau koneksi antar pengguna.\n",
    "\n",
    "2. **Jaringan Komputer**\n",
    "   - **Vertex**: Komputer atau perangkat jaringan.\n",
    "   - **Edge**: Koneksi jaringan antar perangkat.\n",
    "\n",
    "3. **Sistem Transportasi**\n",
    "   - **Vertex**: Kota atau titik pemberhentian.\n",
    "   - **Edge**: Jalan atau rute penghubung.\n",
    "---\n"
   ]
  },
  {
   "cell_type": "markdown",
   "id": "b7ce187d",
   "metadata": {},
   "source": [
    "\n",
    "### Studi Kasus: Friend Suggestion di Facebook\n",
    "\n",
    "Misalkan kita ingin menyarankan teman untuk pengguna bernama **Rama**.\n",
    "\n",
    "- Rama berteman dengan Alex dan Nia.\n",
    "- Alex berteman dengan Swati dan Lee.\n",
    "- Nia berteman dengan Sam dan Tom.\n",
    "\n",
    "**Maka teman yang bisa disarankan untuk Rama:**\n",
    "- Swati, Lee, Sam, dan Tom (teman dari teman).\n",
    "\n",
    "---\n",
    "\n",
    "### Bagaimana dengan Instagram dan TikTok?\n",
    "\n",
    "- Karena menggunakan **directed graph**, maka rekomendasi bisa lebih kompleks, seperti:\n",
    "  - Siapa yang sering diikuti bersama oleh orang lain?\n",
    "  - Siapa yang sering memberi like pada postingan yang sama?\n",
    "\n",
    "---\n"
   ]
  },
  {
   "cell_type": "markdown",
   "id": "8b83adac",
   "metadata": {},
   "source": [
    "## Weighted Graph"
   ]
  },
  {
   "cell_type": "markdown",
   "id": "b661baaa",
   "metadata": {},
   "source": [
    "\n",
    "### Weighted Graph\n",
    "\n",
    "Pada beberapa kasus, **tidak semua edge dianggap sama**. Kita perlu memberi **bobot (weight)** pada setiap edge.\n",
    "\n",
    "---\n",
    "\n",
    "### Apa itu Weighted Graph?\n",
    "\n",
    "- Setiap edge memiliki nilai bobot (weight) yang bisa berupa:\n",
    "  - Jarak\n",
    "  - Waktu\n",
    "  - Biaya\n",
    "- Weight menunjukkan **seberapa \"berat\" hubungan** antar vertex.\n",
    "\n",
    "---\n",
    "\n",
    "### Contoh Aplikasi:\n",
    "\n",
    "1. **Jaringan Jalan Kota**\n",
    "   - Vertex: Kota\n",
    "   - Edge: Jalan antar kota\n",
    "   - Weight: Jarak antar kota (dalam km)\n",
    "\n",
    "2. **Jaringan Komputer**\n",
    "   - Vertex: Komputer\n",
    "   - Edge: Koneksi antar komputer\n",
    "   - Weight: Waktu transfer data\n",
    "\n",
    "---\n",
    "\n",
    "### Representasi Visual:\n",
    "\n",
    "```\n",
    "A --(5)--> B\n",
    "B --(2)--> C\n",
    "C --(1)--> D\n",
    "```\n",
    "Angka dalam tanda kurung adalah bobot (weight) dari setiap edge.\n",
    "\n",
    "---\n",
    "\n",
    "### Perbandingan:\n",
    "\n",
    "| **Graph Tipe** | **Penjelasan**                         |\n",
    "|----------------|-----------------------------------------|\n",
    "| Unweighted     | Semua edge dianggap sama pentingnya     |\n",
    "| Weighted       | Edge memiliki nilai penting yang berbeda|\n",
    "\n",
    "---\n"
   ]
  },
  {
   "cell_type": "markdown",
   "id": "8fd7f398",
   "metadata": {},
   "source": [
    "\n",
    "### Catatan:\n",
    "\n",
    "- Unweighted graph bisa dianggap sebagai weighted graph dengan semua weight = 1.\n",
    "- Pemilihan jalur terbaik dalam weighted graph sering melibatkan algoritma seperti Dijkstra atau A*.\n",
    "\n",
    "---\n"
   ]
  },
  {
   "cell_type": "markdown",
   "id": "ca1c77de",
   "metadata": {},
   "source": [
    "## Jumlah Edge dalam Graph"
   ]
  },
  {
   "cell_type": "markdown",
   "id": "bc9143d9",
   "metadata": {},
   "source": [
    "\n",
    "### Jumlah Edge dalam Graph\n",
    "\n",
    "Dalam sebuah graph, jumlah maksimum edge bergantung pada:\n",
    "- Apakah graph **directed** atau **undirected**\n",
    "- Jumlah vertex \\( n \\)\n",
    "\n",
    "---\n",
    "\n"
   ]
  },
  {
   "cell_type": "markdown",
   "id": "4df0182b",
   "metadata": {},
   "source": [
    "\n",
    "### Dense Graph dan Sparse Graph\n",
    "\n",
    "| **Tipe** | **Deskripsi** |\n",
    "|----------|---------------|\n",
    "| Dense Graph | Banyak edge, mendekati maksimum |\n",
    "| Sparse Graph | Sedikit edge dibanding jumlah vertex |\n",
    "\n",
    "---\n",
    "\n",
    "**Contoh:**\n",
    "- Jika jumlah edge mendekati \\( n (n-1) \\), graph disebut **dense**.\n",
    "- Jika jumlah edge sedikit dibanding jumlah vertex, graph disebut **sparse**.\n",
    "\n",
    "---\n",
    "\n",
    "### Implikasi:\n",
    "\n",
    "- **Dense Graph** biasanya lebih efisien disimpan dalam **Adjacency Matrix**.\n",
    "- **Sparse Graph** lebih hemat ruang jika disimpan dalam **Adjacency List**.\n",
    "\n",
    "---\n"
   ]
  },
  {
   "cell_type": "markdown",
   "id": "cd83c2e3",
   "metadata": {},
   "source": [
    "## Representasi Graph - Adjacency Matrix"
   ]
  },
  {
   "cell_type": "markdown",
   "id": "e1e93dd2",
   "metadata": {},
   "source": [
    "\n",
    "### Adjacency Matrix\n",
    "\n",
    "Adjacency Matrix adalah representasi graph menggunakan **matriks dua dimensi**.\n",
    "\n",
    "---\n",
    "\n",
    "### Cara Kerja:\n",
    "\n",
    "- Matriks berukuran \\( n * n \\), dimana \\( n \\) adalah jumlah vertex.\n",
    "- Jika ada edge dari vertex \\( i \\) ke vertex \\( j \\), maka:\n",
    "  - \\( G[i][j] = 1 \\) (atau nilai weight untuk weighted graph)\n",
    "- Jika tidak ada edge:\n",
    "  - \\( G[i][j] = 0 \\)\n",
    "\n",
    "---\n",
    "\n",
    "### Visualisasi:\n",
    "\n",
    "Misal graph dengan vertex A, B, C, D:\n",
    "\n",
    "|     | A | B | C | D |\n",
    "|-----|---|---|---|---|\n",
    "| A   | 0 | 1 | 1 | 0 |\n",
    "| B   | 1 | 0 | 1 | 1 |\n",
    "| C   | 1 | 1 | 0 | 0 |\n",
    "| D   | 0 | 1 | 0 | 0 |\n",
    "\n",
    "---\n",
    "\n",
    "### Kelebihan:\n",
    "\n",
    "- Mudah dan cepat untuk mengecek apakah ada edge antara dua vertex.\n",
    "\n",
    "### Kekurangan:\n",
    "\n",
    "- Menggunakan banyak ruang untuk graph yang sparse (banyak 0).\n",
    "\n",
    "---\n"
   ]
  },
  {
   "cell_type": "code",
   "execution_count": null,
   "id": "a32fce5d",
   "metadata": {},
   "outputs": [],
   "source": [
    "\n",
    "import numpy as np\n",
    "\n",
    "class GraphAdjMat:\n",
    "    def __init__(self, number_of_vertex):\n",
    "        self.vertex = number_of_vertex\n",
    "        self.data = np.zeros((self.vertex, self.vertex))\n",
    "\n",
    "    def display(self):\n",
    "        print(self.data)\n",
    "        print(\" \")\n",
    "\n",
    "    def countVertex(self):\n",
    "        return self.vertex\n"
   ]
  },
  {
   "cell_type": "code",
   "execution_count": null,
   "id": "806ee595",
   "metadata": {},
   "outputs": [],
   "source": [
    "\n",
    "    def addEdge(self, origin, destination, weight=1, direct=False):\n",
    "        if origin >= self.vertex or destination >= self.vertex:\n",
    "            print(f\"Index not correct, input index value between 0 to {self.vertex-1}\")\n",
    "            return\n",
    "        if direct == \"direct\":\n",
    "            direct = True\n",
    "        if direct:\n",
    "            self.data[origin][destination] = weight\n",
    "        else:\n",
    "            self.data[origin][destination] = weight\n",
    "            self.data[destination][origin] = weight\n"
   ]
  },
  {
   "cell_type": "code",
   "execution_count": null,
   "id": "9e172487",
   "metadata": {},
   "outputs": [],
   "source": [
    "\n",
    "    def countEdge(self):\n",
    "        edge = 0\n",
    "        for i in range(self.vertex):\n",
    "            for j in range(self.vertex):\n",
    "                if self.data[i][j] != 0:\n",
    "                    edge += 1\n",
    "        return edge\n"
   ]
  },
  {
   "cell_type": "code",
   "execution_count": null,
   "id": "ed754c2a",
   "metadata": {},
   "outputs": [],
   "source": [
    "\n",
    "    def removeEdge(self, origin, destination, direct=False):\n",
    "        if origin >= self.vertex or destination >= self.vertex:\n",
    "            print(f\"Index not correct, input index value between 0 to {self.vertex-1}\")\n",
    "            return\n",
    "        if direct == \"direct\":\n",
    "            direct = True\n",
    "        if direct:\n",
    "            self.data[origin][destination] = 0\n",
    "        else:\n",
    "            self.data[origin][destination] = 0\n",
    "            self.data[destination][origin] = 0\n"
   ]
  },
  {
   "cell_type": "code",
   "execution_count": null,
   "id": "d433a599",
   "metadata": {},
   "outputs": [],
   "source": [
    "\n",
    "    def addVertex(self):\n",
    "        n = self.vertex\n",
    "        new_data = np.zeros((n + 1, n + 1))\n",
    "        for i in range(n):\n",
    "            for j in range(n):\n",
    "                new_data[i][j] = self.data[i][j]\n",
    "        self.data = new_data\n",
    "        self.vertex += 1\n"
   ]
  },
  {
   "cell_type": "code",
   "execution_count": null,
   "id": "21bfca10",
   "metadata": {},
   "outputs": [],
   "source": [
    "\n",
    "if __name__ == '__main__':\n",
    "    G = GraphAdjMat(4)\n",
    "    G.addEdge(0, 2)\n",
    "    G.addEdge(1, 3)\n",
    "    G.addEdge(1, 2, 3)\n",
    "    G.addEdge(2, 3, 5, \"direct\")\n",
    "    G.display()\n",
    "    G.addVertex()\n",
    "    G.display()\n",
    "    G.addEdge(4, 1, 1)\n",
    "    G.addEdge(2, 4, 8)\n",
    "    G.removeEdge(2, 3)\n",
    "    G.display()\n",
    "    print(f\"Number of nodes = {G.countVertex()}\")\n",
    "    print(f\"Number of edges = {G.countEdge()}\")\n"
   ]
  },
  {
   "cell_type": "markdown",
   "id": "f35c2c95",
   "metadata": {},
   "source": [
    "# Graph Data Structure\n",
    "## Bagian 10: Representasi Graph - Adjacency List"
   ]
  },
  {
   "cell_type": "markdown",
   "id": "47585dd5",
   "metadata": {},
   "source": [
    "\n",
    "### Adjacency List\n",
    "\n",
    "Adjacency List adalah representasi graph menggunakan array/list yang berisi daftar simpul yang terhubung ke setiap vertex.\n",
    "\n",
    "---\n",
    "\n",
    "### Cara Kerja:\n",
    "\n",
    "- Setiap vertex memiliki list tetangga (neighbor) yang terhubung dengannya.\n",
    "- Cocok untuk graph yang **sparse** (sedikit edge).\n",
    "\n",
    "---\n",
    "\n",
    "### Visualisasi:\n",
    "\n",
    "Misal graph:\n",
    "\n",
    "- 0 terhubung ke 1 dan 4\n",
    "- 1 terhubung ke 0, 2, 3, dan 4\n",
    "- 2 terhubung ke 1 dan 3\n",
    "- 3 terhubung ke 1, 2, dan 4\n",
    "- 4 terhubung ke 0, 1, dan 3\n",
    "\n",
    "Adjacency list:\n",
    "\n",
    "```\n",
    "0 -> 1 -> 4\n",
    "1 -> 0 -> 2 -> 3 -> 4\n",
    "2 -> 1 -> 3\n",
    "3 -> 1 -> 2 -> 4\n",
    "4 -> 0 -> 1 -> 3\n",
    "```\n",
    "\n",
    "---\n"
   ]
  },
  {
   "cell_type": "code",
   "execution_count": 1,
   "id": "98f843da",
   "metadata": {},
   "outputs": [],
   "source": [
    "\n",
    "class AdjNode:\n",
    "    def __init__(self, data):\n",
    "        self.vertex = data\n",
    "        self.next = None\n",
    "\n",
    "class Graph:\n",
    "    def __init__(self, vertices):\n",
    "        self.V = vertices\n",
    "        self.graph = [None] * self.V\n",
    "\n",
    "    def addEdge(self, origin, destination):\n",
    "        node = AdjNode(destination)\n",
    "        node.next = self.graph[origin]\n",
    "        self.graph[origin] = node\n",
    "\n",
    "        node = AdjNode(origin)\n",
    "        node.next = self.graph[destination]\n",
    "        self.graph[destination] = node\n",
    "\n",
    "    def display(self):\n",
    "        for i in range(self.V):\n",
    "            print(f\"Adjacency list of vertex {i} head\", end=\"\")\n",
    "            temp = self.graph[i]\n",
    "            while temp:\n",
    "                print(f\" -> {temp.vertex}\", end=\"\")\n",
    "                temp = temp.next\n",
    "            print(\" \")\n"
   ]
  },
  {
   "cell_type": "code",
   "execution_count": null,
   "id": "07205fe4",
   "metadata": {},
   "outputs": [],
   "source": [
    "\n",
    "if __name__ == \"__main__\":\n",
    "    V = 5\n",
    "    graph = Graph(V)\n",
    "    graph.addEdge(0, 1)\n",
    "    graph.addEdge(0, 4)\n",
    "    graph.addEdge(1, 2)\n",
    "    graph.addEdge(1, 3)\n",
    "    graph.addEdge(1, 4)\n",
    "    graph.addEdge(2, 3)\n",
    "    graph.addEdge(3, 4)\n",
    "    graph.display()\n"
   ]
  }
 ],
 "metadata": {
  "kernelspec": {
   "display_name": "analytics",
   "language": "python",
   "name": "python3"
  },
  "language_info": {
   "codemirror_mode": {
    "name": "ipython",
    "version": 3
   },
   "file_extension": ".py",
   "mimetype": "text/x-python",
   "name": "python",
   "nbconvert_exporter": "python",
   "pygments_lexer": "ipython3",
   "version": "3.11.8"
  }
 },
 "nbformat": 4,
 "nbformat_minor": 5
}
