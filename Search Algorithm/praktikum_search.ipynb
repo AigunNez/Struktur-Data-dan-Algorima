{
 "cells": [
  {
   "cell_type": "markdown",
   "id": "5391b0a0",
   "metadata": {},
   "source": [
    "# Linear Search"
   ]
  },
  {
   "cell_type": "code",
   "execution_count": 17,
   "id": "e9c0e837",
   "metadata": {},
   "outputs": [
    {
     "name": "stdout",
     "output_type": "stream",
     "text": [
      "Element tidak ditemukan\n"
     ]
    }
   ],
   "source": [
    "def linearSearch(arr, x):\n",
    "    for i in range(len(arr)):\n",
    "        if arr[i] == x:\n",
    "            return i\n",
    "    return None\n",
    "\n",
    "\n",
    "data = [13, 9 , 21, 5, 7, 11, 3]\n",
    "target = 8\n",
    "hasil = linearSearch(data, target)\n",
    "print(f\"Element ditemukan pada indeks: {hasil}\" if hasil is not None else \"Element tidak ditemukan\")\n",
    "# if hasil is not None:\n",
    "#     print(f\"Element ditemukan pada indeks: {hasil}\")\n",
    "# else:\n",
    "#     print(\"Element tidak ditemukan\")"
   ]
  },
  {
   "cell_type": "code",
   "execution_count": 26,
   "id": "dd7a3e5e",
   "metadata": {},
   "outputs": [
    {
     "name": "stdout",
     "output_type": "stream",
     "text": [
      "Element ditemukan pada indeks: 4 dengan 5 perbandingan\n"
     ]
    }
   ],
   "source": [
    "def linearSearch(arr, x):\n",
    "    comparisons = 0\n",
    "    for i in range(len(arr)):\n",
    "        comparisons += 1\n",
    "        # print(f\"Perbandingan {comparisons}: {arr[i]} == {x} -> {arr[i] == x}\")\n",
    "        if arr[i] == x:\n",
    "            return i, comparisons\n",
    "    return None, comparisons\n",
    "\n",
    "data = [13, 9 , 21, 5, 7, 11, 3]\n",
    "target = 7\n",
    "hasil, cmp = linearSearch(data, target)\n",
    "print(f\"Element ditemukan pada indeks: {hasil} dengan {cmp} perbandingan\" if hasil is not None else \"Element tidak ditemukan\")\n",
    "# print(f\"Element ditemukan pada indeks: {hasil}\" if hasil is not None else \"Element tidak ditemukan\")"
   ]
  },
  {
   "cell_type": "markdown",
   "id": "3c9b1d85",
   "metadata": {},
   "source": [
    "# Binary Search"
   ]
  },
  {
   "cell_type": "code",
   "execution_count": 19,
   "id": "771adb45",
   "metadata": {},
   "outputs": [
    {
     "name": "stdout",
     "output_type": "stream",
     "text": [
      "Element ditemukan pada indeks: 5\n"
     ]
    }
   ],
   "source": [
    "def binarySearch(arr, x):\n",
    "    low = 0\n",
    "    high = len(arr) - 1\n",
    "    \n",
    "    while low <= high:\n",
    "        mid = low + (high - low) // 2\n",
    "        if arr[mid] == x:\n",
    "            return mid\n",
    "        elif arr[mid]< x:\n",
    "            low = mid + 1\n",
    "        else:\n",
    "            high = mid - 1\n",
    "            \n",
    "    return None\n",
    "\n",
    "data = [3, 5, 7, 9, 11, 13, 21]\n",
    "target = 13\n",
    "hasil = binarySearch(data, target)\n",
    "print(f\"Element ditemukan pada indeks: {hasil}\" if hasil is not None else \"Element tidak ditemukan\")"
   ]
  },
  {
   "cell_type": "markdown",
   "id": "a4ea0bc6",
   "metadata": {},
   "source": []
  },
  {
   "cell_type": "code",
   "execution_count": 20,
   "id": "bc3b8ae6",
   "metadata": {},
   "outputs": [
    {
     "name": "stdout",
     "output_type": "stream",
     "text": [
      "Element ditemukan pada indeks: 5\n"
     ]
    }
   ],
   "source": [
    "def binarySearch(arr, x, low, high):    \n",
    "    mid = low + (high - low) // 2\n",
    "    if arr[mid] == x:\n",
    "        return mid\n",
    "    elif arr[mid]< x:\n",
    "        return binarySearch(arr, x, mid + 1, high)\n",
    "    else:\n",
    "        return binarySearch(arr, x, low, mid - 1)\n",
    "            \n",
    "    return None\n",
    "\n",
    "data = [3, 5, 7, 9, 11, 13, 21]\n",
    "target = 13\n",
    "\n",
    "low = 0\n",
    "high = len(data) - 1\n",
    "\n",
    "hasil = binarySearch(data, target, low, high)\n",
    "print(f\"Element ditemukan pada indeks: {hasil}\" if hasil is not None else \"Element tidak ditemukan\")"
   ]
  },
  {
   "cell_type": "markdown",
   "id": "eaec3198",
   "metadata": {},
   "source": [
    "# Jump Search"
   ]
  },
  {
   "cell_type": "code",
   "execution_count": 21,
   "id": "1a3a5217",
   "metadata": {},
   "outputs": [
    {
     "name": "stdout",
     "output_type": "stream",
     "text": [
      "Element ditemukan pada indeks: 3\n"
     ]
    }
   ],
   "source": [
    "import math\n",
    "\n",
    "def jumpSearch(arr, x):\n",
    "    n = len(arr)\n",
    "    step = int(math.sqrt(n))\n",
    "    prev = 0\n",
    "    \n",
    "    while prev < n and arr[min(step, n) - 1] < x:\n",
    "        prev = step\n",
    "        step += int(math.sqrt(n))\n",
    "        if prev >= n:\n",
    "            return None\n",
    "        \n",
    "    for i in range(prev, min(step, n)):\n",
    "        if arr[i] == x:\n",
    "            return i\n",
    "    \n",
    "    return None\n",
    "\n",
    "data = [3, 5, 7, 9, 11, 13, 21]\n",
    "target = 9\n",
    "hasil = jumpSearch(data, target)\n",
    "print(f\"Element ditemukan pada indeks: {hasil}\" if hasil is not None else \"Element tidak ditemukan\")"
   ]
  },
  {
   "cell_type": "markdown",
   "id": "0888520d",
   "metadata": {},
   "source": [
    "# Exponential Search"
   ]
  },
  {
   "cell_type": "code",
   "execution_count": 22,
   "id": "be5bff8e",
   "metadata": {},
   "outputs": [
    {
     "name": "stdout",
     "output_type": "stream",
     "text": [
      "Element ditemukan pada indeks: 7\n"
     ]
    }
   ],
   "source": [
    "def binarySearch(arr, x, low, high):\n",
    "    \n",
    "    while low <= high:\n",
    "        mid = low + (high - low) // 2\n",
    "        if arr[mid] == x:\n",
    "            return mid\n",
    "        elif arr[mid]< x:\n",
    "            low = mid + 1\n",
    "        else:\n",
    "            high = mid - 1\n",
    "            \n",
    "    return None\n",
    "\n",
    "def exponentialSearch(arr, x):\n",
    "    if arr[0] == x:\n",
    "        return 0\n",
    "    \n",
    "    n = len(arr)\n",
    "    bound = 1\n",
    "    while bound < n and arr[bound] <= x:\n",
    "        bound *= 2\n",
    "        \n",
    "    return binarySearch(arr, x, bound // 2, min(bound, n - 1))\n",
    "\n",
    "data = [10, 12, 24, 32, 35, 40, 45, 50, 60, 70]\n",
    "target = 50\n",
    "hasil = exponentialSearch(data, target)\n",
    "print(f\"Element ditemukan pada indeks: {hasil}\" if hasil is not None else \"Element tidak ditemukan\")"
   ]
  },
  {
   "cell_type": "markdown",
   "id": "7c71059c",
   "metadata": {},
   "source": [
    "# Interpolation Search"
   ]
  },
  {
   "cell_type": "code",
   "execution_count": 23,
   "id": "6fd145cd",
   "metadata": {},
   "outputs": [
    {
     "name": "stdout",
     "output_type": "stream",
     "text": [
      "Element ditemukan pada indeks: 5\n"
     ]
    }
   ],
   "source": [
    "def interpolationSearch(arr, x):\n",
    "    low = 0\n",
    "    high = len(arr) - 1\n",
    "    \n",
    "    # while low <= high and x >= arr[low] and x <= arr[high]:\n",
    "    while low <= high and arr[low] <= x <= arr[high]:\n",
    "        pos = low + ((x - arr[low]) * (high - low)) // (arr[high] - arr[low])\n",
    "        if arr[pos] == x:\n",
    "            return pos\n",
    "        elif arr[pos] < x:\n",
    "            low = pos + 1\n",
    "        else:\n",
    "            high = pos - 1\n",
    "            \n",
    "    return None\n",
    "\n",
    "data = [10, 12, 24, 32, 35, 40, 45, 50, 60, 70]\n",
    "target = 40\n",
    "hasil = interpolationSearch(data, target)\n",
    "print(f\"Element ditemukan pada indeks: {hasil}\" if hasil is not None else \"Element tidak ditemukan\")"
   ]
  },
  {
   "cell_type": "markdown",
   "id": "5cb7512c",
   "metadata": {},
   "source": [
    "# Fibonacci Search"
   ]
  },
  {
   "cell_type": "code",
   "execution_count": 24,
   "id": "cbd0ae34",
   "metadata": {},
   "outputs": [
    {
     "name": "stdout",
     "output_type": "stream",
     "text": [
      "Element ditemukan pada indeks: 6\n"
     ]
    }
   ],
   "source": [
    "def fibonacciSearch(arr, x):\n",
    "    n = len(arr)\n",
    "    fibMMm2 = 0\n",
    "    fibMMm1 = 1\n",
    "    fibM = fibMMm2 + fibMMm1\n",
    "    \n",
    "    while fibM < n:\n",
    "        fibMMm2 = fibMMm1\n",
    "        fibMMm1 = fibM\n",
    "        fibM = fibMMm2 + fibMMm1\n",
    "        \n",
    "    offset = -1\n",
    "    \n",
    "    while fibM > 1:\n",
    "        i = min(offset + fibMMm2, n-1)\n",
    "        \n",
    "        if arr[i] < x:\n",
    "            fibM = fibMMm1\n",
    "            fibMMm1 = fibMMm2\n",
    "            fibMMm2 = fibM - fibMMm1\n",
    "            offset = i\n",
    "        elif arr[i] > x:\n",
    "            fibM = fibMMm2\n",
    "            fibMMm1 = fibMMm1 - fibMMm2\n",
    "            fibMMm2 = fibM - fibMMm1\n",
    "        else :\n",
    "            return i\n",
    "        \n",
    "    if fibMMm1 and offset + 1 <n and arr[offset + 1] == x:\n",
    "        return offset + 1\n",
    "    \n",
    "    return None\n",
    "\n",
    "data = [10, 12, 24, 32, 35, 40, 45, 50, 60, 70]\n",
    "target = 45\n",
    "hasil = fibonacciSearch(data, target)\n",
    "print(f\"Element ditemukan pada indeks: {hasil}\" if hasil is not None else \"Element tidak ditemukan\")"
   ]
  },
  {
   "cell_type": "markdown",
   "id": "7fd044a2",
   "metadata": {},
   "source": [
    "# Perbandingan Antar Algoritma"
   ]
  },
  {
   "cell_type": "code",
   "execution_count": 15,
   "id": "51586351",
   "metadata": {},
   "outputs": [
    {
     "ename": "NameError",
     "evalue": "name 'linearSearch' is not defined",
     "output_type": "error",
     "traceback": [
      "\u001b[1;31m---------------------------------------------------------------------------\u001b[0m",
      "\u001b[1;31mNameError\u001b[0m                                 Traceback (most recent call last)",
      "Cell \u001b[1;32mIn[15], line 2\u001b[0m\n\u001b[0;32m      1\u001b[0m algorithms \u001b[38;5;241m=\u001b[39m {\n\u001b[1;32m----> 2\u001b[0m     \u001b[38;5;124m\"\u001b[39m\u001b[38;5;124mLinear Search\u001b[39m\u001b[38;5;124m\"\u001b[39m: linearSearch,\n\u001b[0;32m      3\u001b[0m     \u001b[38;5;124m\"\u001b[39m\u001b[38;5;124mBinary Search\u001b[39m\u001b[38;5;124m\"\u001b[39m: \u001b[38;5;28;01mlambda\u001b[39;00m arr, x: binarySearch(arr, x, \u001b[38;5;241m0\u001b[39m, \u001b[38;5;28mlen\u001b[39m(arr) \u001b[38;5;241m-\u001b[39m \u001b[38;5;241m1\u001b[39m),\n\u001b[0;32m      4\u001b[0m     \u001b[38;5;124m\"\u001b[39m\u001b[38;5;124mJump Search\u001b[39m\u001b[38;5;124m\"\u001b[39m: jumpSearch,\n\u001b[0;32m      5\u001b[0m     \u001b[38;5;124m\"\u001b[39m\u001b[38;5;124mExponential Search\u001b[39m\u001b[38;5;124m\"\u001b[39m: exponentialSearch,\n\u001b[0;32m      6\u001b[0m     \u001b[38;5;124m\"\u001b[39m\u001b[38;5;124mInterpolation Search\u001b[39m\u001b[38;5;124m\"\u001b[39m: interpolationSearch,\n\u001b[0;32m      7\u001b[0m     \u001b[38;5;124m\"\u001b[39m\u001b[38;5;124mFibonacci Search\u001b[39m\u001b[38;5;124m\"\u001b[39m: fibonacciSearch,\n\u001b[0;32m      8\u001b[0m }\n",
      "\u001b[1;31mNameError\u001b[0m: name 'linearSearch' is not defined"
     ]
    }
   ],
   "source": [
    "algorithms = {\n",
    "    \"Linear Search\": linearSearch,\n",
    "    \"Binary Search\": lambda arr, x: binarySearch(arr, x, 0, len(arr) - 1),\n",
    "    \"Jump Search\": jumpSearch,\n",
    "    \"Exponential Search\": exponentialSearch,\n",
    "    \"Interpolation Search\": interpolationSearch,\n",
    "    \"Fibonacci Search\": fibonacciSearch,\n",
    "}"
   ]
  },
  {
   "cell_type": "code",
   "execution_count": 29,
   "id": "57a3a592",
   "metadata": {},
   "outputs": [
    {
     "name": "stdout",
     "output_type": "stream",
     "text": [
      "Target 5% Awal:\n",
      "  Binary Search memakan waktu 0.000013 detik\n",
      "  Jump Search memakan waktu 0.000110 detik\n",
      "  Exponential Search memakan waktu 0.000010 detik\n",
      "  Interpolation Search memakan waktu 0.000002 detik\n",
      "  Fibonacci Search memakan waktu 0.000013 detik\n",
      "Target 50% Tengah:\n",
      "  Binary Search memakan waktu 0.000010 detik\n",
      "  Jump Search memakan waktu 0.000827 detik\n",
      "  Exponential Search memakan waktu 0.000013 detik\n",
      "  Interpolation Search memakan waktu 0.000001 detik\n",
      "  Fibonacci Search memakan waktu 0.000014 detik\n",
      "Target 95% Akhir:\n",
      "  Binary Search memakan waktu 0.000010 detik\n",
      "  Jump Search memakan waktu 0.001620 detik\n",
      "  Exponential Search memakan waktu 0.000014 detik\n",
      "  Interpolation Search memakan waktu 0.000001 detik\n",
      "  Fibonacci Search memakan waktu 0.000011 detik\n"
     ]
    },
    {
     "data": {
      "image/png": "[encoded data removed]",
      "text/plain": [
       "<Figure size 1200x800 with 1 Axes>"
      ]
     },
     "metadata": {},
     "output_type": "display_data"
    }
   ],
   "source": [
    "import time\n",
    "from time import perf_counter\n",
    "import matplotlib.pyplot as plt\n",
    "\n",
    "large_data = list(range(10_000_000))\n",
    "targets = {\n",
    "    \"5% Awal\" : large_data[len(large_data)// 20],\n",
    "    \"50% Tengah\" : large_data[len(large_data)// 2],\n",
    "    \"95% Akhir\" : large_data[len(large_data) * 95 // 100],\n",
    "}\n",
    "\n",
    "algorithms = {\n",
    "    # \"Linear Search\": linearSearch,\n",
    "    \"Binary Search\": lambda arr, x: binarySearch(arr, x, 0, len(arr) - 1),\n",
    "    \"Jump Search\": jumpSearch,\n",
    "    \"Exponential Search\": exponentialSearch,\n",
    "    \"Interpolation Search\": interpolationSearch,\n",
    "    \"Fibonacci Search\": fibonacciSearch,\n",
    "}\n",
    "\n",
    "results_high_precision = {}\n",
    "\n",
    "for label, target_value in targets.items():\n",
    "    timings = {}\n",
    "    \n",
    "    for name, func in algorithms.items():\n",
    "        start = perf_counter()\n",
    "        func(large_data, target_value)\n",
    "        end= perf_counter()\n",
    "        timings[name] = end - start\n",
    "    \n",
    "    results_high_precision[label] = timings\n",
    "    \n",
    "fig, ax = plt.subplots(figsize=(12, 8))\n",
    "bar_width = 0.2\n",
    "index = list(algorithms.keys())\n",
    "x = range(len(index))\n",
    "\n",
    "for i, (position, timing) in enumerate(results_high_precision.items()):\n",
    "    offset = [j + bar_width * i for j in x]\n",
    "    ax.bar(offset, list(timing.values()), width=bar_width, label=position)\n",
    "    print(f\"Target {position}:\")\n",
    "    for name, timing in timing.items():\n",
    "        print(f\"  {name} memakan waktu {timing:.6f} detik\")\n",
    "    \n",
    "ax.set_xticks([r + bar_width for r in x])\n",
    "ax.set_xticklabels(index, rotation=30)\n",
    "ax.set_ylabel(\"Waktu (detik)\")\n",
    "ax.set_title(\"Perbandingan Waktu Pencarian Algoritma\")\n",
    "ax.legend()\n",
    "ax.grid(True)\n",
    "plt.tight_layout()\n",
    "plt.show()"
   ]
  },
  {
   "cell_type": "code",
   "execution_count": null,
   "id": "bf71da61",
   "metadata": {},
   "outputs": [],
   "source": []
  }
 ],
 "metadata": {
  "kernelspec": {
   "display_name": "analytics",
   "language": "python",
   "name": "python3"
  },
  "language_info": {
   "codemirror_mode": {
    "name": "ipython",
    "version": 3
   },
   "file_extension": ".py",
   "mimetype": "text/x-python",
   "name": "python",
   "nbconvert_exporter": "python",
   "pygments_lexer": "ipython3",
   "version": "3.11.8"
  }
 },
 "nbformat": 4,
 "nbformat_minor": 5
}
