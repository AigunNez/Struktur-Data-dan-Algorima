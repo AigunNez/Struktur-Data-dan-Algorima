{
 "cells": [
  {
   "cell_type": "markdown",
   "id": "94629464",
   "metadata": {},
   "source": [
    "# Struktur Data Queue\n"
   ]
  },
  {
   "cell_type": "markdown",
   "id": "cf8f0af2",
   "metadata": {},
   "source": [
    "\n",
    "### Apa itu Queue?\n",
    "\n",
    "Queue atau **antrian** adalah salah satu struktur data linear yang mengikuti prinsip **FIFO (First In First Out)**, artinya **elemen yang pertama kali dimasukkan akan menjadi elemen pertama yang dikeluarkan**.\n"
   ]
  },
  {
   "cell_type": "markdown",
   "id": "90d98938",
   "metadata": {},
   "source": [
    "\n",
    "### Karakteristik utama:\n",
    "- Elemen baru dimasukkan dari **belakang antrian (rear)**\n",
    "- Elemen dihapus dari **depan antrian (front)**\n",
    "\n",
    "### Ilustrasi FIFO (First-In First-Out)\n",
    "Bayangkan sebuah barisan orang yang mengantri membeli tiket bioskop:\n",
    "\n",
    "```\n",
    "[1] → [2] → [3] → [4] → [5]\n",
    " ↑                     ↑\n",
    "Front              Rear\n",
    "```\n",
    "- Orang pertama (`[1]`) akan **dilayani lebih dulu**\n",
    "- Orang terakhir (`[5]`) akan **menunggu paling lama**\n"
   ]
  },
  {
   "cell_type": "markdown",
   "id": "0cc6cf2b",
   "metadata": {},
   "source": [
    "\n",
    "### Contoh Aplikasi Queue di Dunia Nyata\n",
    "\n",
    "| **Situasi**                             | **Penjelasan** |\n",
    "|----------------------------------------|----------------|\n",
    "| Antrian kasir di supermarket           | Pelanggan pertama yang datang, dilayani lebih dahulu |\n",
    "| Cetak dokumen (print queue)            | Dokumen yang dikirim pertama akan dicetak lebih dulu |\n",
    "| CPU Scheduling                         | Proses pertama yang masuk ke CPU akan diproses lebih dahulu |\n",
    "| Customer service call center           | Penelepon pertama direspons lebih dahulu |\n"
   ]
  },
  {
   "cell_type": "markdown",
   "id": "398e10ba",
   "metadata": {},
   "source": [
    "\n",
    "### Perbedaan Queue dan Stack\n",
    "\n",
    "| **Aspek**     | **Stack (LIFO)**                | **Queue (FIFO)**                 |\n",
    "|---------------|----------------------------------|----------------------------------|\n",
    "| Urutan keluar | Terakhir masuk, pertama keluar   | Pertama masuk, pertama keluar    |\n",
    "| Ilustrasi     | Tumpukan piring                  | Antrian di loket                 |\n",
    "| Operasi masuk | `push()` ke atas                 | `enqueue()` di belakang          |\n",
    "| Operasi keluar| `pop()` dari atas                | `dequeue()` dari depan           |\n"
   ]
  },
  {
   "cell_type": "markdown",
   "id": "e5e8e336",
   "metadata": {},
   "source": [
    "\n",
    "### Mengapa Memahami Queue Penting?\n",
    "\n",
    "- Banyak digunakan dalam **algoritma antrian** di dunia nyata.\n",
    "- Membantu memahami cara kerja sistem seperti **multitasking, load balancing**, dan **penjadwalan proses**.\n",
    "- Dasar dari **struktur data lanjutan** seperti:\n",
    "  - Deque (Double-ended queue)\n",
    "  - Priority Queue\n",
    "  - Blocking Queue (multithreading)\n"
   ]
  },
  {
   "cell_type": "markdown",
   "id": "3ddf6c83",
   "metadata": {},
   "source": [
    "## Jenis-jenis Queue"
   ]
  },
  {
   "cell_type": "markdown",
   "id": "11c9a369",
   "metadata": {},
   "source": [
    "\n",
    "### Tipe-Tipe Queue\n",
    "\n",
    "Queue memiliki beberapa varian tergantung kebutuhan dan perilaku pemrosesan datanya. Berikut adalah tipe-tipe utama dari struktur data queue:\n"
   ]
  },
  {
   "cell_type": "markdown",
   "id": "184a98b6",
   "metadata": {},
   "source": [
    "\n",
    "### 1. Simple Queue (Linear Queue)\n",
    "\n",
    "- Disebut juga **antrian linier**.\n",
    "- Data ditambahkan dari bagian belakang (*rear*) dan dihapus dari bagian depan (*front*).\n",
    "- Merupakan bentuk paling dasar dari queue.\n",
    "- Cocok untuk kasus antrian biasa (contoh: antrian loket tiket).\n",
    "\n",
    "**Ilustrasi:**\n",
    "```\n",
    "Enqueue:         [10] → [20] → [30]\n",
    "Dequeue (front):  ↑\n",
    "```\n"
   ]
  },
  {
   "cell_type": "markdown",
   "id": "feef0731",
   "metadata": {},
   "source": [
    "\n",
    "### 2. Circular Queue\n",
    "\n",
    "- Elemen terakhir terhubung kembali ke elemen pertama, membentuk **lingkaran**.\n",
    "- Menghindari pemborosan ruang pada queue linier karena pergeseran data.\n",
    "- Digunakan saat ruang penyimpanan terbatas dan tetap ingin memaksimalkan slot kosong.\n",
    "\n",
    "**Ilustrasi Sederhana:**\n",
    "```\n",
    "[30] → [40] → [50] → [60]\n",
    " ↑                    ↓\n",
    " ←←←←←←←←←←←←←←←←←←←←←\n",
    "```\n",
    "\n",
    "- Ketika rear mencapai akhir array, ia akan kembali ke indeks 0 jika ada ruang kosong.\n"
   ]
  },
  {
   "cell_type": "markdown",
   "id": "7810df63",
   "metadata": {},
   "source": [
    "\n",
    "### 3. Priority Queue\n",
    "\n",
    "- Elemen dalam antrian memiliki **tingkat prioritas**.\n",
    "- Elemen dengan **prioritas tertinggi** akan diproses lebih dahulu, tidak peduli urutan masuknya.\n",
    "- Cocok untuk sistem yang perlu memproses permintaan berdasarkan urgensi.\n",
    "\n",
    "**Contoh Kasus:**\n",
    "- Antrian pasien di rumah sakit, pasien gawat darurat diprioritaskan.\n",
    "- VIP Line di wahana permainan, pengunjung VIP langsung masuk ke depan.\n",
    "\n",
    "**Ilustrasi:**\n",
    "```\n",
    "Input: [Normal-3], [VIP-1], [Normal-2]\n",
    "Diurutkan: [VIP-1], [Normal-2], [Normal-3]\n",
    "```\n"
   ]
  },
  {
   "cell_type": "markdown",
   "id": "a2559b30",
   "metadata": {},
   "source": [
    "## Operasi Dasar pada Queue"
   ]
  },
  {
   "cell_type": "markdown",
   "id": "f8df5140",
   "metadata": {},
   "source": [
    "\n",
    "### Operasi Dasar pada Queue\n",
    "\n",
    "Seperti Stack, struktur data Queue juga memiliki operasi-operasi dasar yang digunakan untuk memanipulasi data di dalamnya. Namun, semua operasi dilakukan berdasarkan prinsip **First In First Out (FIFO)**.\n"
   ]
  },
  {
   "cell_type": "markdown",
   "id": "0b5063ae",
   "metadata": {},
   "source": [
    "\n",
    "### 1. `enqueue(new_data)`\n",
    "- Menambahkan elemen ke bagian **belakang (rear)** antrian.\n",
    "- Biasanya dilakukan ketika ada elemen baru yang masuk ke dalam sistem.\n",
    "\n",
    "### 2. `dequeue()`\n",
    "- Menghapus dan mengembalikan elemen dari bagian **depan (front)** antrian.\n",
    "- Merupakan elemen yang paling lama berada di dalam antrian.\n",
    "\n",
    "### 3. `peekFront()`\n",
    "- Melihat elemen yang berada di **depan antrian** tanpa menghapusnya.\n",
    "- Berguna untuk mengetahui siapa yang akan diproses berikutnya.\n",
    "\n",
    "### 4. `peekRear()`\n",
    "- Melihat elemen yang berada di **belakang antrian**.\n",
    "- Berguna untuk mengecek elemen terakhir yang masuk ke dalam antrian.\n"
   ]
  },
  {
   "cell_type": "markdown",
   "id": "0550d97d",
   "metadata": {},
   "source": [
    "\n",
    "### Ilustrasi Operasi Queue\n",
    "\n",
    "```\n",
    "Awal queue kosong:\n",
    "Queue: []\n",
    "\n",
    "enqueue(10) → enqueue(20) → enqueue(30)\n",
    "Queue: [10, 20, 30]\n",
    "\n",
    "dequeue() → hapus elemen 10\n",
    "Queue: [20, 30]\n",
    "\n",
    "peekFront() → 20\n",
    "peekRear()  → 30\n",
    "```\n"
   ]
  },
  {
   "cell_type": "markdown",
   "id": "48883167",
   "metadata": {},
   "source": [
    "\n",
    "### Pentingnya Operasi Dasar\n",
    "\n",
    "- Operasi-operasi ini akan menjadi pondasi saat kita mengimplementasikan queue dalam berbagai bentuk (array, linked list, circular).\n",
    "- Operasi dasar digunakan dalam simulasi sistem antrian nyata seperti:\n",
    "  - Pemrosesan job di printer\n",
    "  - Load balancing server\n",
    "  - Penjadwalan proses oleh CPU\n"
   ]
  },
  {
   "cell_type": "markdown",
   "id": "674c2ae8",
   "metadata": {},
   "source": [
    "##  Implementasi Queue Menggunakan Array (Linear Queue)"
   ]
  },
  {
   "cell_type": "markdown",
   "id": "70729857",
   "metadata": {},
   "source": [
    "\n",
    "### Implementasi Queue dengan Array (Linear Queue)\n",
    "\n",
    "Pada implementasi linear queue menggunakan array, kita menyimpan data dalam urutan indeks tetap dan menggunakan dua pointer: `front` dan `rear`.\n",
    "\n",
    "- `front`: menunjuk ke elemen pertama dalam queue\n",
    "- `rear`: menunjuk ke posisi setelah elemen terakhir yang dimasukkan\n",
    "\n",
    "Jika `rear` mencapai batas maksimum array, maka kita tidak bisa menambahkan elemen lagi meskipun ada elemen yang sudah dihapus di awal.\n"
   ]
  },
  {
   "cell_type": "code",
   "execution_count": null,
   "id": "14a3416c",
   "metadata": {},
   "outputs": [],
   "source": [
    "class ArrayQueue:\n",
    "    def __init__(self, maks):\n",
    "        self.data = []              # Menyimpan elemen\n",
    "        self.front = 0              # Indeks depan\n",
    "        self.rear = 0               # Indeks belakang (jumlah elemen)\n",
    "        self.maks = maks            # Kapasitas maksimum queue"
   ]
  },
  {
   "cell_type": "code",
   "execution_count": null,
   "id": "ec187112",
   "metadata": {},
   "outputs": [],
   "source": [
    "def __len__(self):             # Mengembalikan ukuran queue\n",
    "    return self.rear\n",
    "\n",
    "def isEmpty(self):             # Mengecek apakah queue kosong\n",
    "    return self.rear == 0"
   ]
  },
  {
   "cell_type": "code",
   "execution_count": null,
   "id": "da26ce19",
   "metadata": {},
   "outputs": [],
   "source": [
    "def display(self):             # Menampilkan isi queue\n",
    "    if self.isEmpty():\n",
    "        print(\"Queue is empty\")\n",
    "        return\n",
    "    print(self.data)"
   ]
  },
  {
   "cell_type": "code",
   "execution_count": null,
   "id": "8bc81bc4",
   "metadata": {},
   "outputs": [],
   "source": [
    "def enqueue(self, new_data):   # Menambahkan data ke queue\n",
    "    if self.rear == self.maks:\n",
    "        print(\"Queue is full\")\n",
    "        return\n",
    "    self.data.append(new_data)\n",
    "    self.rear += 1"
   ]
  },
  {
   "cell_type": "code",
   "execution_count": null,
   "id": "5469631d",
   "metadata": {},
   "outputs": [],
   "source": [
    "def dequeue(self):             # Menghapus data dari depan\n",
    "    if self.isEmpty():\n",
    "        print(\"Queue is empty\")\n",
    "        return\n",
    "    removed = self.data.pop(self.front)\n",
    "    self.rear -= 1\n",
    "    return removed\n"
   ]
  },
  {
   "cell_type": "code",
   "execution_count": null,
   "id": "83670558",
   "metadata": {},
   "outputs": [],
   "source": [
    "def peekFront(self):\n",
    "    if self.isEmpty():\n",
    "        print(\"Queue is empty\")\n",
    "        return\n",
    "    return self.data[self.front]\n",
    "\n",
    "def peekRear(self):\n",
    "    if self.isEmpty():\n",
    "        print(\"Queue is empty\")\n",
    "        return\n",
    "    return self.data[self.rear - 1]\n"
   ]
  },
  {
   "cell_type": "code",
   "execution_count": null,
   "id": "bff6c991",
   "metadata": {},
   "outputs": [],
   "source": [
    "# Contoh penggunaan\n",
    "if __name__ == '__main__':\n",
    "    q = ArrayQueue(4)\n",
    "    q.enqueue(10)\n",
    "    q.enqueue(20)\n",
    "    q.enqueue(30)\n",
    "    q.display()\n",
    "    print(\"Dequeued:\", q.dequeue())\n",
    "    q.display()\n",
    "    print(\"Front:\", q.peekFront())\n",
    "    print(\"Rear:\", q.peekRear())\n"
   ]
  },
  {
   "cell_type": "markdown",
   "id": "c0efa51c",
   "metadata": {},
   "source": [
    "## Implementasi Circular Queue Menggunakan Array"
   ]
  },
  {
   "cell_type": "markdown",
   "id": "f727fd63",
   "metadata": {},
   "source": [
    "\n",
    "### Circular Queue dengan Array\n",
    "\n",
    "Circular Queue adalah versi modifikasi dari queue linier di mana posisi terakhir terhubung ke posisi pertama membentuk lingkaran. Hal ini memungkinkan penggunaan ruang array secara lebih efisien.\n",
    "\n",
    "Pada Circular Queue, kita menggunakan operator modulo (`%`) untuk memutar indeks `rear` dan `front`.\n"
   ]
  },
  {
   "cell_type": "code",
   "execution_count": null,
   "id": "62871800",
   "metadata": {},
   "outputs": [],
   "source": [
    "class ArrayCircularQueue:\n",
    "    def __init__(self, maks):\n",
    "        self.data = [None] * maks   # Array tetap\n",
    "        self.front = 0              # Indeks elemen pertama\n",
    "        self.rear = 0               # Indeks penempatan elemen baru\n",
    "        self.maks = maks            # Ukuran maksimum queue\n",
    "        self.count = 0              # Jumlah elemen saat ini\n"
   ]
  },
  {
   "cell_type": "code",
   "execution_count": null,
   "id": "b5d9f5af",
   "metadata": {},
   "outputs": [],
   "source": [
    "def __len__(self):\n",
    "    return self.count\n",
    "\n",
    "def isEmpty(self):\n",
    "    return self.count == 0\n"
   ]
  },
  {
   "cell_type": "code",
   "execution_count": null,
   "id": "c3014936",
   "metadata": {},
   "outputs": [],
   "source": [
    "def display(self):\n",
    "    if self.isEmpty():\n",
    "        print(\"Queue is empty\")\n",
    "        return\n",
    "    print(\"Isi queue:\", end=\" \")\n",
    "    index = self.front\n",
    "    for _ in range(self.count):\n",
    "        print(self.data[index], end=\" \")\n",
    "        index = (index + 1) % self.maks\n",
    "    print()\n"
   ]
  },
  {
   "cell_type": "code",
   "execution_count": null,
   "id": "7834161f",
   "metadata": {},
   "outputs": [],
   "source": [
    "def enqueue(self, new_data):\n",
    "    if self.count == self.maks:\n",
    "        print(\"Queue is full\")\n",
    "        return\n",
    "    self.data[self.rear] = new_data\n",
    "    self.rear = (self.rear + 1) % self.maks\n",
    "    self.count += 1\n"
   ]
  },
  {
   "cell_type": "code",
   "execution_count": null,
   "id": "19a877de",
   "metadata": {},
   "outputs": [],
   "source": [
    "def dequeue(self):\n",
    "    if self.isEmpty():\n",
    "        print(\"Queue is empty\")\n",
    "        return\n",
    "    removed = self.data[self.front]\n",
    "    self.front = (self.front + 1) % self.maks\n",
    "    self.count -= 1\n",
    "    return removed\n"
   ]
  },
  {
   "cell_type": "code",
   "execution_count": null,
   "id": "3bace0dc",
   "metadata": {},
   "outputs": [],
   "source": [
    "\n",
    "# Contoh penggunaan Circular Queue\n",
    "if __name__ == '__main__':\n",
    "    cq = ArrayCircularQueue(4)\n",
    "    cq.enqueue('A')\n",
    "    cq.enqueue('B')\n",
    "    cq.enqueue('C')\n",
    "    cq.enqueue('D')\n",
    "    cq.display()\n",
    "\n",
    "    cq.enqueue('E')  # Akan gagal karena penuh\n",
    "\n",
    "    print(\"Dequeued:\", cq.dequeue())\n",
    "    print(\"Dequeued:\", cq.dequeue())\n",
    "\n",
    "    cq.enqueue('E')\n",
    "    cq.enqueue('F')\n",
    "    cq.display()\n"
   ]
  },
  {
   "cell_type": "markdown",
   "id": "16177073",
   "metadata": {},
   "source": [
    "## Implementasi Queue Menggunakan Linked List (Linear Queue)"
   ]
  },
  {
   "cell_type": "markdown",
   "id": "a78e9c81",
   "metadata": {},
   "source": [
    "\n",
    "### Queue Menggunakan Linked List\n",
    "\n",
    "Berbeda dengan array yang memiliki ukuran tetap, linked list memungkinkan kita membuat queue yang **dinamis** ukurannya.\n",
    "\n",
    "Dalam implementasi ini, kita akan menggunakan dua pointer:\n",
    "- `front`: menunjuk ke elemen pertama\n",
    "- `rear`: menunjuk ke elemen terakhir\n"
   ]
  },
  {
   "cell_type": "code",
   "execution_count": null,
   "id": "c085352d",
   "metadata": {},
   "outputs": [],
   "source": [
    "\n",
    "class Node:\n",
    "    def __init__(self, data):\n",
    "        self.data = data\n",
    "        self.next = None\n",
    "\n",
    "class LinQueue:\n",
    "    def __init__(self):\n",
    "        self.front = None\n",
    "        self.rear = None\n"
   ]
  },
  {
   "cell_type": "code",
   "execution_count": null,
   "id": "cc125bac",
   "metadata": {},
   "outputs": [],
   "source": [
    "def isEmpty(self):\n",
    "    return self.front is None\n",
    "\n",
    "def display(self):\n",
    "    if self.isEmpty():\n",
    "        print(\"Queue is empty\")\n",
    "        return\n",
    "    temp = self.front\n",
    "    print(\"Isi queue:\", end=\" \")\n",
    "    while temp:\n",
    "        print(temp.data, end=\" \")\n",
    "        temp = temp.next\n",
    "    print()\n"
   ]
  },
  {
   "cell_type": "code",
   "execution_count": null,
   "id": "211f3ffc",
   "metadata": {},
   "outputs": [],
   "source": [
    "def enqueue(self, new_data):\n",
    "    new_node = Node(new_data)\n",
    "    if self.isEmpty():\n",
    "        self.front = self.rear = new_node\n",
    "        return\n",
    "    self.rear.next = new_node\n",
    "    self.rear = new_node\n"
   ]
  },
  {
   "cell_type": "code",
   "execution_count": null,
   "id": "12cbb51f",
   "metadata": {},
   "outputs": [],
   "source": [
    "def dequeue(self):\n",
    "    if self.isEmpty():\n",
    "        print(\"Queue is empty\")\n",
    "        return\n",
    "    removed = self.front.data\n",
    "    self.front = self.front.next\n",
    "    if self.front is None:  # Jika elemen habis, rear ikut jadi None\n",
    "        self.rear = None\n",
    "    return removed\n"
   ]
  },
  {
   "cell_type": "code",
   "execution_count": null,
   "id": "e932ad3c",
   "metadata": {},
   "outputs": [],
   "source": [
    "\n",
    "# Contoh penggunaan Queue dengan Linked List\n",
    "if __name__ == '__main__':\n",
    "    q = LinQueue()\n",
    "    q.enqueue(10)\n",
    "    q.enqueue(20)\n",
    "    q.enqueue(30)\n",
    "    q.display()\n",
    "\n",
    "    print(\"Dequeued:\", q.dequeue())\n",
    "    q.display()\n",
    "\n",
    "    q.enqueue(40)\n",
    "    q.display()\n"
   ]
  },
  {
   "cell_type": "markdown",
   "id": "6465bc46",
   "metadata": {},
   "source": [
    "## Implementasi Circular Queue Menggunakan Circular Linked List"
   ]
  },
  {
   "cell_type": "markdown",
   "id": "7af43649",
   "metadata": {},
   "source": [
    "\n",
    "### Circular Queue dengan Circular Linked List\n",
    "\n",
    "Pada Circular Linked List, node terakhir akan menunjuk kembali ke node pertama, membentuk struktur **melingkar**. Queue dengan model ini sangat cocok digunakan jika ingin siklus data berulang.\n",
    "\n",
    "Pointer yang digunakan:\n",
    "- `front`: menunjuk ke node pertama\n",
    "- `rear`: menunjuk ke node terakhir yang `next`-nya menunjuk ke `front`\n"
   ]
  },
  {
   "cell_type": "code",
   "execution_count": null,
   "id": "e4b803f7",
   "metadata": {},
   "outputs": [],
   "source": [
    "\n",
    "class Node:\n",
    "    def __init__(self, data):\n",
    "        self.data = data\n",
    "        self.next = None\n",
    "\n",
    "class CirQueue:\n",
    "    def __init__(self):\n",
    "        self.front = None\n",
    "        self.rear = None\n"
   ]
  },
  {
   "cell_type": "code",
   "execution_count": null,
   "id": "c8a7c1af",
   "metadata": {},
   "outputs": [],
   "source": [
    "def isEmpty(self):\n",
    "    return self.front is None\n",
    "\n",
    "def display(self):\n",
    "    if self.isEmpty():\n",
    "        print(\"Queue is empty\")\n",
    "        return\n",
    "    temp = self.front\n",
    "    print(\"Isi queue:\", end=\" \")\n",
    "    while True:\n",
    "        print(temp.data, end=\" \")\n",
    "        temp = temp.next\n",
    "        if temp == self.front:\n",
    "            break\n",
    "    print()"
   ]
  },
  {
   "cell_type": "code",
   "execution_count": null,
   "id": "86d11613",
   "metadata": {},
   "outputs": [],
   "source": [
    "def enqueue(self, new_data):\n",
    "    new_node = Node(new_data)\n",
    "    if self.isEmpty():\n",
    "        self.front = self.rear = new_node\n",
    "        self.rear.next = self.front\n",
    "        return\n",
    "    new_node.next = self.front\n",
    "    self.rear.next = new_node\n",
    "    self.rear = new_node\n"
   ]
  },
  {
   "cell_type": "code",
   "execution_count": null,
   "id": "2c22c262",
   "metadata": {},
   "outputs": [],
   "source": [
    "def dequeue(self):\n",
    "    if self.isEmpty():\n",
    "        print(\"Queue is empty\")\n",
    "        return\n",
    "    removed = self.front.data\n",
    "    if self.front == self.rear:\n",
    "        self.front = self.rear = None\n",
    "    else:\n",
    "        self.front = self.front.next\n",
    "        self.rear.next = self.front\n",
    "    return removed\n"
   ]
  },
  {
   "cell_type": "code",
   "execution_count": null,
   "id": "21021a98",
   "metadata": {},
   "outputs": [],
   "source": [
    "\n",
    "# Contoh penggunaan Circular Linked List Queue\n",
    "if __name__ == '__main__':\n",
    "    qc = CirQueue()\n",
    "    qc.enqueue(100)\n",
    "    qc.enqueue(200)\n",
    "    qc.enqueue(300)\n",
    "    qc.display()\n",
    "\n",
    "    print(\"Dequeued:\", qc.dequeue())\n",
    "    print(\"Dequeued:\", qc.dequeue())\n",
    "    qc.display()\n"
   ]
  }
 ],
 "metadata": {
  "language_info": {
   "name": "python"
  }
 },
 "nbformat": 4,
 "nbformat_minor": 5
}
