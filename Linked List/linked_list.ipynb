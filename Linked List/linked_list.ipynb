{
 "cells": [
  {
   "cell_type": "markdown",
   "metadata": {},
   "source": [
    "# Linked List (Senarai Berantai)\n",
    "Dalam dunia pemrograman dan struktur data, linked list atau senarai berantai adalah salah satu struktur data dasar yang sangat penting. Tidak seperti array yang memiliki ukuran tetap, linked list memiliki sifat dinamis sehingga ukurannya dapat bertambah atau berkurang selama program berjalan. Data dalam linked list disimpan dalam unit-unit yang disebut node, yang saling terhubung satu sama lain menggunakan pointer.\n",
    "\n",
    "## Sejarah Singkat Linked List\n",
    "Linked list pertama kali dikembangkan pada tahun 1955–1956 oleh Allen Newell, Cliff Shaw, dan Herbert Simon di RAND Corporation. Struktur data ini dirancang sebagai bagian dari pengembangan bahasa pemrograman IPL (Information Processing Language) yang digunakan dalam kecerdasan buatan (AI), seperti pembuatan program pemecah permainan catur (chess solver).\n",
    "\n",
    "Di waktu yang sama, Victor Yngve dari Massachusetts Institute of Technology (MIT) menggunakan linked list dalam bidang pengolahan bahasa alami (Natural Language Processing) dan transisi mesin dalam bahasa pemrograman COMMIT.\n",
    "\n",
    "## Mengapa Linked List Penting?\n",
    "Linked list sangat penting karena:\n",
    "- Struktur ini adalah dasar dari berbagai struktur data kompleks seperti stack, queue, graph, dan tree.\n",
    "- Linked list sering digunakan saat kita perlu memanipulasi data secara dinamis, seperti menyisipkan atau menghapus elemen dengan efisien.\n",
    "- Memahami cara kerja pointer dan node dalam linked list akan membantu dalam memahami konsep alokasi memori dinamis, yang penting dalam pemrograman tingkat lanjut."
   ]
  },
  {
   "cell_type": "markdown",
   "metadata": {},
   "source": [
    "## Dasar Konsep Linked List\n",
    "### Definisi Linked List\n",
    "Linked List atau dalam Bahasa Indonesia disebut Senarai Berantai adalah sebuah struktur data linier yang terdiri dari sekumpulan elemen (disebut node) yang saling terhubung satu sama lain menggunakan pointer.\n",
    "Setiap node pada linked list biasanya terdiri dari dua bagian utama:\n",
    "- Data: Menyimpan nilai atau informasi.\n",
    "- Pointer (next): Menyimpan alamat atau referensi ke node berikutnya."
   ]
  },
  {
   "cell_type": "markdown",
   "metadata": {},
   "source": [
    "### Karakteristik Linked List\n",
    "- Dinamis: Tidak memiliki ukuran tetap seperti array. Node dapat ditambahkan atau dihapus sesuai kebutuhan.\n",
    "- Tersambung Secara Berurutan: Setiap node saling terhubung satu arah (atau dua arah pada doubly linked list).\n",
    "- Menggunakan Pointer: Untuk mengakses node lain, kita harus mengikuti pointer yang tersimpan di setiap node.\n",
    "- Akses Berurutan (Sequential): Tidak seperti array yang dapat diakses secara langsung berdasarkan indeks, node dalam linked list harus diakses secara berurutan dari awal.\n",
    "\n",
    "### Komponen Utama\n",
    "- Node: Elemen penyusun linked list.\n",
    "- Head: Pointer yang menunjuk ke node pertama dalam list.\n",
    "- Tail (opsional): Dalam implementasi tertentu, tail digunakan untuk menunjuk ke node terakhir agar proses penambahan lebih cepat.\n",
    "- NULL / None: Tanda bahwa node tersebut adalah yang terakhir (tidak ada node selanjutnya).\n",
    "\n",
    "### Kelebihan dan Kekurangan Linked List\n",
    "<table>\n",
    "    <thead>\n",
    "        <tr>\n",
    "            <th>Kelebihan</th>\n",
    "            <th>Kekurangan</th>\n",
    "        </tr>\n",
    "    </thead>\n",
    "    <tbody>\n",
    "        <tr>\n",
    "            <td>Ukuran fleksibel (dinamis)</td>\n",
    "            <td>Akses data lebih lambat karena tidak random</td>\n",
    "        </tr>\n",
    "        <tr>\n",
    "            <td>Mudah menambahkan/menghapus elemen</td>\n",
    "            <td>Membutuhkan memori tambahan untuk pointer</td>\n",
    "        </tr>\n",
    "        <tr>\n",
    "            <td>Efisien dalam manipulasi data</td>\n",
    "            <td>Lebih kompleks dalam pengelolaan memori</td>\n",
    "        </tr>\n",
    "    </tbody>\n",
    "</table>"
   ]
  },
  {
   "cell_type": "markdown",
   "metadata": {},
   "source": [
    "### Jenis-Jenis Linked List\n",
    "- Single Linked List<br>\n",
    "  Setiap node hanya memiliki satu pointer yang mengarah ke node berikutnya.\n",
    "- Double Linked List<br>\n",
    "    Setiap node memiliki dua pointer: satu ke node berikut dan satu ke node sebelumnya.\n",
    "- Circular Linked List<br>\n",
    "    Node terakhir menunjuk kembali ke node pertama, sehingga membentuk lingkaran."
   ]
  },
  {
   "cell_type": "markdown",
   "metadata": {},
   "source": [
    "## Perbandingan: Array vs Linked List\n",
    "\n",
    "### Struktur dan Alokasi Memori\n",
    "<table>\n",
    "  <thead>\n",
    "    <tr>\n",
    "      <th>Aspek</th>\n",
    "      <th>Array</th>\n",
    "      <th>Linked List</th>\n",
    "    </tr>\n",
    "  </thead>\n",
    "  <tbody>\n",
    "    <tr>\n",
    "      <td>Ukuran</td>\n",
    "      <td>Tetap (statis)</td>\n",
    "      <td>Fleksibel (dinamis)</td>\n",
    "    </tr>\n",
    "    <tr>\n",
    "      <td>Alokasi memori</td>\n",
    "      <td>Dialokasikan sekaligus</td>\n",
    "      <td>Dialokasikan per node saat dibutuhkan</td>\n",
    "    </tr>\n",
    "    <tr>\n",
    "      <td>Penyimpanan data</td>\n",
    "      <td>Elemen disimpan berdampingan</td>\n",
    "      <td>Elemen tersebar dan saling terhubung</td>\n",
    "    </tr>\n",
    "  </tbody>\n",
    "</table>"
   ]
  },
  {
   "cell_type": "markdown",
   "metadata": {},
   "source": [
    "### Operasi Tambah dan Hapus\n",
    "<table border=\"1\" cellpadding=\"10\" cellspacing=\"0\">\n",
    "  <thead>\n",
    "    <tr>\n",
    "      <th>Operasi</th>\n",
    "      <th>Array</th>\n",
    "      <th>Linked List</th>\n",
    "    </tr>\n",
    "  </thead>\n",
    "  <tbody>\n",
    "    <tr>\n",
    "      <td>Penambahan data</td>\n",
    "      <td>Harus disisipkan atau digeser</td>\n",
    "      <td>Lebih mudah, cukup ubah pointer</td>\n",
    "    </tr>\n",
    "    <tr>\n",
    "      <td>Penghapusan data</td>\n",
    "      <td>Butuh geser elemen setelahnya</td>\n",
    "      <td>Ubah pointer, tidak perlu geser data</td>\n",
    "    </tr>\n",
    "    <tr>\n",
    "      <td>Waktu penambahan</td>\n",
    "      <td>O(n) di awal/tengah, O(1) di akhir*</td>\n",
    "      <td>O(1) di awal, O(n) di akhir/tengah</td>\n",
    "    </tr>\n",
    "  </tbody>\n",
    "</table>\n"
   ]
  },
  {
   "cell_type": "markdown",
   "metadata": {},
   "source": [
    "### Akses Data\n",
    "<table border=\"1\" cellpadding=\"10\" cellspacing=\"0\">\n",
    "  <thead>\n",
    "    <tr>\n",
    "      <th>Akses Data</th>\n",
    "      <th>Array</th>\n",
    "      <th>Linked List</th>\n",
    "    </tr>\n",
    "  </thead>\n",
    "  <tbody>\n",
    "    <tr>\n",
    "      <td>Akses acak (random)</td>\n",
    "      <td>Bisa (via indeks)</td>\n",
    "      <td>Tidak bisa (harus iterasi)</td>\n",
    "    </tr>\n",
    "    <tr>\n",
    "      <td>Akses berurutan</td>\n",
    "      <td>Efisien</td>\n",
    "      <td>Efisien</td>\n",
    "    </tr>\n",
    "  </tbody>\n",
    "</table>\n"
   ]
  },
  {
   "cell_type": "markdown",
   "metadata": {},
   "source": [
    "### Penggunaan Memori\n",
    "- Array menggunakan memori secara kontigu (posisi memori yang berdampingan atau berurutan) dan dapat menyebabkan pemborosan jika ukuran terlalu besar.\n",
    "- Linked List menggunakan lebih banyak memori karena setiap node menyimpan pointer, namun lebih hemat jika ukuran tidak pasti atau sering berubah."
   ]
  },
  {
   "cell_type": "markdown",
   "metadata": {},
   "source": [
    "## Konsep Head dan Tail pada Linked List\n",
    "### Apa itu Head dan Tail?\n",
    "Dalam struktur linked list, terdapat dua istilah penting:\n",
    "<table border=\"1\" cellpadding=\"10\" cellspacing=\"0\">\n",
    "  <thead>\n",
    "    <tr>\n",
    "      <th>Istilah</th>\n",
    "      <th>Penjelasan</th>\n",
    "    </tr>\n",
    "  </thead>\n",
    "  <tbody>\n",
    "    <tr>\n",
    "      <td><strong>Head</strong></td>\n",
    "      <td>Pointer yang menunjuk ke <strong>node pertama</strong> dalam list. Semua operasi traversal selalu dimulai dari sini.</td>\n",
    "    </tr>\n",
    "    <tr>\n",
    "      <td><strong>Tail</strong></td>\n",
    "      <td>Pointer yang menunjuk ke <strong>node terakhir</strong>, yang memiliki nilai <code>next = None</code>.</td>\n",
    "    </tr>\n",
    "  </tbody>\n",
    "</table>\n"
   ]
  },
  {
   "cell_type": "markdown",
   "metadata": {},
   "source": [
    "Traversal : Proses mengunjungi setiap elemen (node) dalam struktur data secara berurutan, satu per satu."
   ]
  },
  {
   "cell_type": "markdown",
   "metadata": {},
   "source": [
    "### Mengapa Penting?\n",
    "- Head diperlukan untuk mengakses dan memanipulasi seluruh isi list.\n",
    "- Tail sangat berguna jika kita ingin menambahkan data di akhir list tanpa harus traversal, yaitu dengan langsung menunjuk ke node terakhir."
   ]
  },
  {
   "cell_type": "markdown",
   "metadata": {},
   "source": [
    "### Ilustrasi Linked List dengan Head dan Tail\n",
    "```Head → [7] → [10] → [15] → Tail```\n",
    "- Head menunjuk ke node pertama (7)\n",
    "- Tail menunjuk ke node terakhir (15)\n",
    "- Node 15 menunjuk ke None"
   ]
  },
  {
   "cell_type": "markdown",
   "metadata": {},
   "source": [
    "## Single Linked List Non-Circular (SLLNC)\n",
    "Single Linked List Non-Circular adalah jenis linked list yang:\n",
    "- Terdiri dari node-node yang saling terhubung satu arah.\n",
    "\n",
    "- Node terakhir menunjuk ke NULL, menandakan akhir dari list.\n",
    "\n",
    "- Arah pointer selalu maju, dari satu node ke node berikutnya."
   ]
  },
  {
   "cell_type": "markdown",
   "metadata": {},
   "source": [
    "### Struktur Dasar Node dan Linked List\n",
    "Setiap node terdiri dari dua bagian:\n",
    "- Data – Nilai yang disimpan.\n",
    "- Pointer – Penunjuk ke node berikutnya."
   ]
  },
  {
   "cell_type": "code",
   "execution_count": 1,
   "metadata": {},
   "outputs": [],
   "source": [
    "class Node:\n",
    "    def __init__(self, data):\n",
    "        self.data = data      # Menyimpan data\n",
    "        self.next = None      # Menunjuk ke node berikutnya"
   ]
  },
  {
   "cell_type": "markdown",
   "metadata": {},
   "source": [
    "Untuk mengelola node-node tersebut, diperlukan kelas Linkedlist"
   ]
  },
  {
   "cell_type": "code",
   "execution_count": null,
   "metadata": {},
   "outputs": [],
   "source": [
    "class LinkedList:\n",
    "    def __init__(self):\n",
    "        self.head = None      # Menunjuk ke node pertama (head)"
   ]
  },
  {
   "cell_type": "markdown",
   "metadata": {},
   "source": [
    "Awalnya, head bernilai None karena list masih kosong."
   ]
  },
  {
   "cell_type": "markdown",
   "metadata": {},
   "source": [
    "### Contoh Linked List"
   ]
  },
  {
   "cell_type": "code",
   "execution_count": 9,
   "metadata": {},
   "outputs": [],
   "source": [
    "llist = LinkedList()\n",
    "llist.head = Node(1)         # Node pertama\n",
    "second = Node(2)             # Node kedua\n",
    "third = Node(3)              # Node ketiga\n",
    "\n",
    "llist.head.next = second     # Hubungkan node pertama ke kedua\n",
    "second.next = third          # Hubungkan node kedua ke ketiga"
   ]
  },
  {
   "cell_type": "markdown",
   "metadata": {},
   "source": [
    "### Mencetak Linked List"
   ]
  },
  {
   "cell_type": "code",
   "execution_count": null,
   "metadata": {},
   "outputs": [],
   "source": [
    "def printList(self):\n",
    "    temp = self.head\n",
    "    while temp:\n",
    "        print(f\"Data = {temp.data}\")\n",
    "        temp = temp.next"
   ]
  },
  {
   "cell_type": "code",
   "execution_count": 10,
   "metadata": {},
   "outputs": [
    {
     "name": "stdout",
     "output_type": "stream",
     "text": [
      "Data = 1\n",
      "Data = 2\n",
      "Data = 3\n"
     ]
    }
   ],
   "source": [
    "llist.printList()\n"
   ]
  },
  {
   "cell_type": "markdown",
   "metadata": {},
   "source": [
    "Illustrasi Linked List <br>\n",
    "```[1] → [2] → [3] → NULL```"
   ]
  },
  {
   "cell_type": "markdown",
   "metadata": {},
   "source": [
    "## Operasi pada Sinngle Linked List Non Circular (SLLNC)\n",
    "### Penambahan Data ke Depan (Front)\n",
    "Menambahkan data di depan berarti:\n",
    "- Node baru akan menjadi node pertama (head).\n",
    "- Node baru akan menunjuk ke node sebelumnya.\n",
    "- Pointer head akan diperbarui untuk menunjuk ke node baru.\n",
    "\n",
    "Cocok digunakan ketika:\n",
    "- Ingin menyisipkan data dengan cepat di awal list (operasi O(1))."
   ]
  },
  {
   "cell_type": "markdown",
   "metadata": {},
   "source": [
    "### Method Push"
   ]
  },
  {
   "cell_type": "code",
   "execution_count": 11,
   "metadata": {},
   "outputs": [],
   "source": [
    "def push(self, new_data):\n",
    "    new_node = Node(new_data)     # Buat node baru\n",
    "    new_node.next = self.head     # Arahkan node baru ke head lama\n",
    "    self.head = new_node          # Perbarui head ke node baru"
   ]
  },
  {
   "cell_type": "code",
   "execution_count": null,
   "metadata": {},
   "outputs": [],
   "source": [
    "llist = LinkedList()\n",
    "llist.push(20)\n",
    "llist.push(10)\n",
    "llist.push(7)\n",
    "llist.printList()\n"
   ]
  },
  {
   "cell_type": "markdown",
   "metadata": {},
   "source": [
    "contoh Illustrasi awal : <br>\n",
    "```[7] → [10] → [20] → NULL```\n",
    "\n",
    "setelah ditambahkan : <br>\n",
    "[5] → [7] → [10] → [20] → NULL\n"
   ]
  },
  {
   "cell_type": "markdown",
   "metadata": {},
   "source": [
    "Metode push() sangat efisien untuk menambahkan data di awal list tanpa perlu traversal.\n",
    "\n",
    "Jika kamu setuju, berikutnya kita bisa lanjut ke penambahan data di akhir list menggunakan metode append(). Mau dilanjutkan?"
   ]
  },
  {
   "cell_type": "markdown",
   "metadata": {},
   "source": [
    "## Penambahan Data ke Belakang (End)\n",
    "Menambahkan data di akhir berarti:\n",
    "- Node baru akan menjadi node terakhir.\n",
    "- Pointer next dari node sebelumnya akan menunjuk ke node baru.\n",
    "- Node baru akan menunjuk ke None.\n",
    "\n",
    "Cocok digunakan saat:\n",
    "- Ingin menyimpan data secara urut sesuai urutan masuk."
   ]
  },
  {
   "cell_type": "markdown",
   "metadata": {},
   "source": [
    "Tantangan :\n",
    "- Karena tidak ada pointer langsung ke akhir list, kita harus melakukan traversal dari head hingga menemukan node terakhir (yang menunjuk ke None)."
   ]
  },
  {
   "cell_type": "markdown",
   "metadata": {},
   "source": [
    "### Method append"
   ]
  },
  {
   "cell_type": "code",
   "execution_count": null,
   "metadata": {},
   "outputs": [],
   "source": [
    "def append(self, new_data):\n",
    "    new_node = Node(new_data)       # Buat node baru\n",
    "    if self.head is None:           # Jika list kosong\n",
    "        self.head = new_node\n",
    "        return\n",
    "    last = self.head\n",
    "    while last.next:                # Telusuri hingga node terakhir\n",
    "        last = last.next\n",
    "    last.next = new_node            # Hubungkan node terakhir ke node baru\n"
   ]
  },
  {
   "cell_type": "code",
   "execution_count": null,
   "metadata": {},
   "outputs": [],
   "source": [
    "llist = LinkedList()\n",
    "llist.append(7)\n",
    "llist.append(10)\n",
    "llist.append(20)\n",
    "llist.printList()\n"
   ]
  },
  {
   "cell_type": "markdown",
   "metadata": {},
   "source": [
    "Illustrasi awal :\n",
    "```[7] → [10] → [20] → NULL```\n",
    "\n",
    "Setelah menambahkan 30:\n",
    "```[7] → [10] → [20] → [30] → NULL```\n"
   ]
  },
  {
   "cell_type": "markdown",
   "metadata": {},
   "source": [
    "## Penambahan Data di Tengah (Setelah Node Tertentu)\n",
    "Penambahan data di tengah dilakukan dengan cara:\n",
    "- Menentukan node sebelumnya (prev_node) di mana data baru akan disisipkan setelahnya.\n",
    "- Membuat node baru.\n",
    "- Menghubungkan node baru ke node setelahnya, lalu menghubungkan prev_node ke node baru.\n",
    "\n",
    "Ini berguna saat kamu ingin menyisipkan data di posisi tertentu secara manual.\n",
    "\n"
   ]
  },
  {
   "cell_type": "markdown",
   "metadata": {},
   "source": [
    "### Method insertAfter"
   ]
  },
  {
   "cell_type": "code",
   "execution_count": null,
   "metadata": {},
   "outputs": [],
   "source": [
    "def insertAfter(self, prev_node, new_data):\n",
    "    if prev_node is None:\n",
    "        print(\"Node sebelumnya tidak ditemukan.\")\n",
    "        return\n",
    "    new_node = Node(new_data)\n",
    "    new_node.next = prev_node.next\n",
    "    prev_node.next = new_node\n"
   ]
  },
  {
   "cell_type": "code",
   "execution_count": null,
   "metadata": {},
   "outputs": [],
   "source": [
    "llist = LinkedList()\n",
    "llist.append(7)\n",
    "llist.append(10)\n",
    "llist.append(20)\n",
    "\n",
    "# Menyisipkan 15 setelah node dengan data 10\n",
    "llist.insertAfter(llist.head.next, 15)\n",
    "llist.printList()\n"
   ]
  },
  {
   "cell_type": "markdown",
   "metadata": {},
   "source": [
    "Illustrasi awal :\n",
    "```[7] → [10] → [20] → NULL```\n",
    "\n",
    "Jika menyisipkan angka 15 setelah 10, hasilnya menjadi:\n",
    "```[7] → [10] → [15] → [20] → NULL```"
   ]
  },
  {
   "cell_type": "markdown",
   "metadata": {},
   "source": [
    "<b>Catatan</b> : \n",
    "- Untuk menyisipkan data di posisi tertentu, kamu harus terlebih dahulu mencari node sebelumnya.\n",
    "- Operasi ini membutuhkan waktu O(n) karena traversal diperlukan untuk menemukan node tersebut."
   ]
  },
  {
   "cell_type": "markdown",
   "metadata": {},
   "source": [
    "### Penghapusan Data di Depan (Front)\n",
    "Penghapusan data di depan dilakukan dengan cara:\n",
    "- Menghapus node pertama (head) dari linked list.\n",
    "- Menjadikan node kedua sebagai head yang baru.\n",
    "\n",
    "Cocok digunakan saat:\n",
    "- Ingin menghapus elemen paling awal dalam list.\n",
    "- Operasi ini cepat dan efisien (O(1))."
   ]
  },
  {
   "cell_type": "markdown",
   "metadata": {},
   "source": [
    "### Method removeBegin"
   ]
  },
  {
   "cell_type": "code",
   "execution_count": null,
   "metadata": {},
   "outputs": [],
   "source": [
    "def removeBegin(self):\n",
    "    if self.head is None:\n",
    "        print(\"List kosong, tidak ada yang bisa dihapus.\")\n",
    "        return\n",
    "    removed_data = self.head.data\n",
    "    self.head = self.head.next\n",
    "    print(f\"Data {removed_data} telah dihapus dari depan.\")\n"
   ]
  },
  {
   "cell_type": "code",
   "execution_count": null,
   "metadata": {},
   "outputs": [],
   "source": [
    "llist = LinkedList()\n",
    "llist.append(7)\n",
    "llist.append(10)\n",
    "llist.append(15)\n",
    "\n",
    "llist.removeBegin()   # Hapus node pertama\n",
    "llist.printList()\n"
   ]
  },
  {
   "cell_type": "markdown",
   "metadata": {},
   "source": [
    "Sebelum : <br>\n",
    "```[7] → [10] → [15] → [20] → NULL```\n",
    "\n",
    "Setelah menghapus data depan : <br>\n",
    "```[10] → [15] → [20] → NULL```\n",
    "\n",
    "Catatan :\n",
    "- Jika head bernilai None, maka list sudah kosong dan tidak ada yang bisa dihapus.\n",
    "- Operasi ini tidak membutuhkan traversal, hanya mengatur ulang pointer head."
   ]
  },
  {
   "cell_type": "markdown",
   "metadata": {},
   "source": [
    "## Penghapusan Data di Belakang (End)\n",
    "Menghapus node terakhir berarti:\n",
    "- Harus menemukan node sebelum node terakhir.\n",
    "- Ubah pointer node tersebut agar menunjuk ke None.\n",
    "- Node terakhir akan dihapus dari memori.\n",
    "\n",
    "Berbeda dengan removeBegin, proses ini memerlukan traversal dari awal list untuk menemukan node sebelum terakhir."
   ]
  },
  {
   "cell_type": "markdown",
   "metadata": {},
   "source": [
    "### Method removeEnd\n"
   ]
  },
  {
   "cell_type": "code",
   "execution_count": null,
   "metadata": {},
   "outputs": [],
   "source": [
    "def removeEnd(self):\n",
    "    if self.head is None:\n",
    "        print(\"List kosong, tidak ada yang bisa dihapus.\")\n",
    "        return\n",
    "    if self.head.next is None:\n",
    "        removed_data = self.head.data\n",
    "        self.head = None\n",
    "        print(f\"Data {removed_data} telah dihapus dari belakang (satu-satunya node).\")\n",
    "        return\n",
    "    bantu = self.head\n",
    "    while bantu.next.next:\n",
    "        bantu = bantu.next\n",
    "    removed_data = bantu.next.data\n",
    "    bantu.next = None\n",
    "    print(f\"Data {removed_data} telah dihapus dari belakang.\")\n"
   ]
  },
  {
   "cell_type": "code",
   "execution_count": null,
   "metadata": {},
   "outputs": [],
   "source": [
    "llist = LinkedList()\n",
    "llist.append(7)\n",
    "llist.append(10)\n",
    "llist.append(15)\n",
    "llist.append(20)\n",
    "\n",
    "llist.removeEnd()  # Menghapus node terakhir\n",
    "llist.printList()\n"
   ]
  },
  {
   "cell_type": "markdown",
   "metadata": {},
   "source": [
    "Sebelum :<br>\n",
    "```[7] → [10] → [15] → [20] → NULL```\n",
    "\n",
    "Setelah menghapus data akhir : <br>\n",
    "```[7] → [10] → [15] → NULL```\n",
    "\n",
    "Catatan:\n",
    "- Kita harus mencari node kedua terakhir (menggunakan bantu.next.next) agar bisa memutus node terakhir.\n",
    "- Jika list hanya punya satu node, maka setelah dihapus, list menjadi kosong (head = None)."
   ]
  },
  {
   "cell_type": "markdown",
   "metadata": {},
   "source": [
    "## Kode Lengkap SLLNC"
   ]
  },
  {
   "cell_type": "code",
   "execution_count": 13,
   "metadata": {},
   "outputs": [],
   "source": [
    "# Node class\n",
    "class Node:\n",
    "    def __init__(self, data):\n",
    "        self.data = data        # Menyimpan data\n",
    "        self.next = None        # Menunjuk ke node berikutnya\n",
    "\n",
    "# Linked List class\n",
    "class LinkedList:\n",
    "    def __init__(self):\n",
    "        self.head = None        # Pointer ke node pertama\n",
    "        self.tail = None        # (Opsional) Pointer ke node terakhir\n",
    "\n",
    "    # Menambahkan data ke depan list\n",
    "    def push(self, new_data):\n",
    "        new_node = Node(new_data)\n",
    "        new_node.next = self.head\n",
    "        self.head = new_node\n",
    "        if self.tail is None:\n",
    "            self.tail = new_node\n",
    "\n",
    "    # Menambahkan data ke belakang list\n",
    "    def append(self, new_data):\n",
    "        new_node = Node(new_data)\n",
    "        if self.head is None:\n",
    "            self.head = new_node\n",
    "            self.tail = new_node\n",
    "            return\n",
    "        self.tail.next = new_node\n",
    "        self.tail = new_node\n",
    "\n",
    "    # Menyisipkan data setelah node tertentu\n",
    "    def insertAfter(self, prev_node, new_data):\n",
    "        if prev_node is None:\n",
    "            print(\"Node sebelumnya tidak ditemukan.\")\n",
    "            return\n",
    "        new_node = Node(new_data)\n",
    "        new_node.next = prev_node.next\n",
    "        prev_node.next = new_node\n",
    "        if new_node.next is None:\n",
    "            self.tail = new_node\n",
    "\n",
    "    # Menghapus data dari depan\n",
    "    def removeBegin(self):\n",
    "        if self.head is None:\n",
    "            print(\"List kosong, tidak ada yang bisa dihapus.\")\n",
    "            return\n",
    "        removed_data = self.head.data\n",
    "        self.head = self.head.next\n",
    "        if self.head is None:\n",
    "            self.tail = None\n",
    "        print(f\"Data {removed_data} telah dihapus dari depan.\")\n",
    "\n",
    "    # Menghapus data dari belakang\n",
    "    def removeEnd(self):\n",
    "        if self.head is None:\n",
    "            print(\"List kosong, tidak ada yang bisa dihapus.\")\n",
    "            return\n",
    "        if self.head.next is None:\n",
    "            removed_data = self.head.data\n",
    "            self.head = None\n",
    "            self.tail = None\n",
    "            print(f\"Data {removed_data} telah dihapus (satu-satunya node).\")\n",
    "            return\n",
    "        bantu = self.head\n",
    "        while bantu.next.next:\n",
    "            bantu = bantu.next\n",
    "        removed_data = bantu.next.data\n",
    "        bantu.next = None\n",
    "        self.tail = bantu\n",
    "        print(f\"Data {removed_data} telah dihapus dari belakang.\")\n",
    "\n",
    "    # Mencetak seluruh data dalam linked list\n",
    "    def printList(self):\n",
    "        temp = self.head\n",
    "        while temp:\n",
    "            print(f\"Data = {temp.data}\")\n",
    "            temp = temp.next\n"
   ]
  },
  {
   "cell_type": "code",
   "execution_count": 15,
   "metadata": {},
   "outputs": [
    {
     "name": "stdout",
     "output_type": "stream",
     "text": [
      "Data 1 telah dihapus dari depan.\n",
      "Data 4 telah dihapus dari belakang.\n",
      "\n",
      "Isi linked list saat ini:\n",
      "Data = 7\n",
      "Data = 8\n",
      "Data = 6\n"
     ]
    }
   ],
   "source": [
    "llist = LinkedList()\n",
    "llist.append(6)              # List: 6\n",
    "llist.push(7)                # List: 7 → 6\n",
    "llist.push(1)                # List: 1 → 7 → 6\n",
    "llist.append(4)              # List: 1 → 7 → 6 → 4\n",
    "llist.insertAfter(llist.head.next, 8)  # Setelah 7: 1 → 7 → 8 → 6 → 4\n",
    "llist.removeBegin()          # Hapus 1: 7 → 8 → 6 → 4\n",
    "llist.removeEnd()            # Hapus 4: 7 → 8 → 6\n",
    "\n",
    "print(\"\\nIsi linked list saat ini:\")\n",
    "llist.printList()"
   ]
  },
  {
   "cell_type": "markdown",
   "metadata": {},
   "source": [
    "## Double Linked List Non-Circular (DLLNC)\n",
    "Double Linked List Non-Circular (DLLNC) adalah jenis linked list di mana:\n",
    "- Setiap node memiliki dua pointer:\n",
    "- next: menunjuk ke node berikutnya.\n",
    "- previous: menunjuk ke node sebelumnya.\n",
    "\n",
    "List tidak membentuk lingkaran — node terakhir tetap menunjuk ke None.\n",
    "- Ini memungkinkan kita menelusuri data ke depan maupun ke belakang secara efisien."
   ]
  },
  {
   "cell_type": "markdown",
   "metadata": {},
   "source": [
    "### Struktur Node dan DoubleLinkedList\n",
    "Setiap node pada DLLNC memiliki tiga komponen:\n",
    "- Data\n",
    "- Pointer ke node sebelumnya\n",
    "- Pointer ke node berikutnya"
   ]
  },
  {
   "cell_type": "code",
   "execution_count": null,
   "metadata": {},
   "outputs": [],
   "source": [
    "class TwoWayNode:\n",
    "    def __init__(self, data, previous=None, next=None):\n",
    "        self.data = data\n",
    "        self.previous = previous\n",
    "        self.next = next\n"
   ]
  },
  {
   "cell_type": "code",
   "execution_count": null,
   "metadata": {},
   "outputs": [],
   "source": [
    "class DoubleLinkedList:\n",
    "    def __init__(self):\n",
    "        self.head = None\n",
    "        self.tail = None"
   ]
  },
  {
   "cell_type": "markdown",
   "metadata": {},
   "source": [
    "- head: menunjuk ke node pertama\n",
    "- tail: menunjuk ke node terakhir"
   ]
  },
  {
   "cell_type": "markdown",
   "metadata": {},
   "source": [
    "### Menambahkan Node Secara Manual\n"
   ]
  },
  {
   "cell_type": "code",
   "execution_count": null,
   "metadata": {},
   "outputs": [],
   "source": [
    "dllist = DoubleLinkedList()\n",
    "\n",
    "first = TwoWayNode(10)\n",
    "dllist.head = dllist.tail = first\n",
    "\n",
    "second = TwoWayNode(25, previous=first)\n",
    "first.next = second\n",
    "dllist.tail = second\n",
    "\n",
    "third = TwoWayNode(37, previous=second)\n",
    "second.next = third\n",
    "dllist.tail = third\n"
   ]
  },
  {
   "cell_type": "markdown",
   "metadata": {},
   "source": [
    "### Mencetak isi List\n",
    "Traversal dari depan ke belakang:"
   ]
  },
  {
   "cell_type": "code",
   "execution_count": null,
   "metadata": {},
   "outputs": [],
   "source": [
    "def printList(self):\n",
    "    temp = self.head\n",
    "    while temp:\n",
    "        print(f'Prev: {temp.previous}, Data: {temp.data}, Next: {temp.next}')\n",
    "        temp = temp.next\n"
   ]
  },
  {
   "cell_type": "markdown",
   "metadata": {},
   "source": [
    "### Operasi Penambahan: insertAfter(p, e)\n",
    "Algoritma:\n",
    "- Buat node baru v dengan data e.\n",
    "- Hubungkan v ke p dan p.next.\n",
    "- Update pointer p dan p.next agar menunjuk ke v."
   ]
  },
  {
   "cell_type": "code",
   "execution_count": null,
   "metadata": {},
   "outputs": [],
   "source": [
    "def insertAfter(self, prev_node, data):\n",
    "    if prev_node is None:\n",
    "        print(\"Node sebelumnya tidak ditemukan.\")\n",
    "        return\n",
    "    new_node = TwoWayNode(data, previous=prev_node, next=prev_node.next)\n",
    "    if prev_node.next is not None:\n",
    "        prev_node.next.previous = new_node\n",
    "    prev_node.next = new_node\n"
   ]
  },
  {
   "cell_type": "markdown",
   "metadata": {},
   "source": [
    "### Operasi Penghapusan: remove(p)\n",
    "Algoritma:\n",
    "- Update prev_node.next ke p.next.\n",
    "- Update next_node.previous ke p.previous.\n",
    "- Putuskan p dari linked list."
   ]
  },
  {
   "cell_type": "code",
   "execution_count": null,
   "metadata": {},
   "outputs": [],
   "source": [
    "def remove(self, node):\n",
    "    if node.previous:\n",
    "        node.previous.next = node.next\n",
    "    if node.next:\n",
    "        node.next.previous = node.previous\n",
    "    node.previous = None\n",
    "    node.next = None\n"
   ]
  },
  {
   "cell_type": "markdown",
   "metadata": {},
   "source": [
    "### Kompleksitas Waktu (Worst Case)\n",
    "<table border=\"1\" cellpadding=\"10\" cellspacing=\"0\">\n",
    "  <thead>\n",
    "    <tr>\n",
    "      <th>Operasi</th>\n",
    "      <th>Kompleksitas</th>\n",
    "    </tr>\n",
    "  </thead>\n",
    "  <tbody>\n",
    "    <tr>\n",
    "      <td>Penambahan di head/tail</td>\n",
    "      <td>O(1)</td>\n",
    "    </tr>\n",
    "    <tr>\n",
    "      <td>Penghapusan di head/tail</td>\n",
    "      <td>O(1)</td>\n",
    "    </tr>\n",
    "    <tr>\n",
    "      <td>Akses elemen tengah</td>\n",
    "      <td>O(n)</td>\n",
    "    </tr>\n",
    "  </tbody>\n",
    "</table>\n"
   ]
  },
  {
   "cell_type": "markdown",
   "metadata": {},
   "source": [
    "## Circular Linked List\n",
    "Circular Linked List adalah jenis linked list di mana:\n",
    "- Node terakhir menunjuk kembali ke node pertama, membentuk sebuah lingkaran.\n",
    "- Tidak ada node yang menunjuk ke NULL (kecuali pada header node khusus).\n",
    "- Dapat digunakan dalam bentuk Single Circular atau Double Circular.\n",
    "\n",
    "Cocok digunakan dalam sistem yang memerlukan perulangan terus-menerus, seperti antrian putar (round-robin scheduling)."
   ]
  },
  {
   "cell_type": "markdown",
   "metadata": {},
   "source": [
    "### Perbedaan dengan Linear Linked List\n",
    "<table border=\"1\" cellpadding=\"10\" cellspacing=\"0\">\n",
    "  <thead>\n",
    "    <tr>\n",
    "      <th>Aspek</th>\n",
    "      <th>Linear Linked List</th>\n",
    "      <th>Circular Linked List</th>\n",
    "    </tr>\n",
    "  </thead>\n",
    "  <tbody>\n",
    "    <tr>\n",
    "      <td>Node terakhir</td>\n",
    "      <td>Menunjuk ke <code>NULL</code></td>\n",
    "      <td>Menunjuk ke node pertama</td>\n",
    "    </tr>\n",
    "    <tr>\n",
    "      <td>Traversal</td>\n",
    "      <td>Terbatas (berakhir di NULL)</td>\n",
    "      <td>Bisa berputar terus-menerus</td>\n",
    "    </tr>\n",
    "    <tr>\n",
    "      <td>Akses ke awal</td>\n",
    "      <td>Perlu pointer eksternal</td>\n",
    "      <td>Bisa dicapai dari node manapun</td>\n",
    "    </tr>\n",
    "  </tbody>\n",
    "</table>\n"
   ]
  },
  {
   "cell_type": "markdown",
   "metadata": {},
   "source": [
    "### Struktur Circular Linked List\n",
    "Single Circular:\n",
    "- Setiap node hanya memiliki 1 pointer (next).\n",
    "- Node terakhir menunjuk ke node pertama.\n",
    "\n",
    "Double Circular:\n",
    "- Setiap node memiliki next dan previous.\n",
    "- Node pertama dan terakhir saling terhubung dua arah."
   ]
  },
  {
   "cell_type": "code",
   "execution_count": 17,
   "metadata": {},
   "outputs": [],
   "source": [
    "class Node:\n",
    "    def __init__(self, data):\n",
    "        self.data = data\n",
    "        self.next = None\n"
   ]
  },
  {
   "cell_type": "code",
   "execution_count": 20,
   "metadata": {},
   "outputs": [],
   "source": [
    "class CircularLinkedList:\n",
    "    def __init__(self):\n",
    "        self.head = None\n",
    "\n",
    "    # Menambahkan data di akhir list\n",
    "    def append(self, data):\n",
    "        new_node = Node(data)\n",
    "        if not self.head:\n",
    "            self.head = new_node\n",
    "            new_node.next = new_node  # mengarah ke dirinya sendiri\n",
    "        else:\n",
    "            temp = self.head\n",
    "            while temp.next != self.head:\n",
    "                temp = temp.next\n",
    "            temp.next = new_node\n",
    "            new_node.next = self.head\n",
    "\n",
    "    # Menampilkan isi list\n",
    "    def printList(self):\n",
    "        if not self.head:\n",
    "            print(\"List kosong.\")\n",
    "            return\n",
    "        temp = self.head\n",
    "        while True:\n",
    "            print(f\"Data: {temp.data}\")\n",
    "            temp = temp.next\n",
    "            # if temp == self.head:\n",
    "            #     break"
   ]
  },
  {
   "cell_type": "code",
   "execution_count": null,
   "metadata": {},
   "outputs": [],
   "source": [
    "cll = CircularLinkedList()\n",
    "cll.append(10)\n",
    "cll.append(20)\n",
    "cll.append(30)\n",
    "cll.append(40)\n",
    "cll.printList()"
   ]
  },
  {
   "cell_type": "markdown",
   "metadata": {},
   "source": [
    "Penjelasan\n",
    "- Node terakhir (40) akan menunjuk kembali ke node pertama (10).\n",
    "- Fungsi printList() akan berhenti saat traversal kembali ke head.\n",
    "- List ini tidak pernah berakhir secara alami, jadi kita perlu deteksi manual untuk berhenti."
   ]
  },
  {
   "cell_type": "markdown",
   "metadata": {},
   "source": [
    "### Kapan Menggunakan Circular Linked List?\n",
    "Gunakan circular linked list jika:\n",
    "- Perlu traversal berulang tanpa batas.\n",
    "- Tidak ingin kehilangan pointer ke awal list.\n",
    "- Cocok untuk antrian berbasis giliran atau sistem rotasi.\n",
    "\n"
   ]
  }
 ],
 "metadata": {
  "kernelspec": {
   "display_name": "analytics",
   "language": "python",
   "name": "python3"
  },
  "language_info": {
   "codemirror_mode": {
    "name": "ipython",
    "version": 3
   },
   "file_extension": ".py",
   "mimetype": "text/x-python",
   "name": "python",
   "nbconvert_exporter": "python",
   "pygments_lexer": "ipython3",
   "version": "3.11.8"
  }
 },
 "nbformat": 4,
 "nbformat_minor": 2
}
