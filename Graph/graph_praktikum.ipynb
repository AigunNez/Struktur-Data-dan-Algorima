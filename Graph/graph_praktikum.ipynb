{
 "cells": [
  {
   "cell_type": "markdown",
   "id": "3f4a27c1",
   "metadata": {},
   "source": [
    "# Adjacency List"
   ]
  },
  {
   "cell_type": "code",
   "execution_count": 1,
   "id": "5548a7b1",
   "metadata": {},
   "outputs": [],
   "source": [
    "class AdjNode:\n",
    "    def __init__(self, data):\n",
    "        self.vertex = data\n",
    "        self.next = None"
   ]
  },
  {
   "cell_type": "code",
   "execution_count": 2,
   "id": "0dffc44d",
   "metadata": {},
   "outputs": [],
   "source": [
    "class Graph:\n",
    "    def __init__(self, vertices):\n",
    "        self.V = vertices\n",
    "        self.graph = [None] * self.V\n",
    "        \n",
    "    def addEdge(self, origin, destination):\n",
    "        node = AdjNode(destination)\n",
    "        node.next = self.graph[origin]\n",
    "        self.graph[origin] = node\n",
    "        \n",
    "        node = AdjNode(origin)\n",
    "        node.next = self.graph[destination]\n",
    "        self.graph[destination] = node\n",
    "        \n",
    "    def display(self):\n",
    "        for i in range(self.V):\n",
    "            print(f\"vertex {i}:\", end=\"\")\n",
    "            temp = self.graph[i]\n",
    "            \n",
    "            while temp:\n",
    "                print(f\" -> {temp.vertex}\", end=\"\")\n",
    "                temp = temp.next\n",
    "            print()\n",
    "    "
   ]
  },
  {
   "cell_type": "code",
   "execution_count": 3,
   "id": "5b2f456e",
   "metadata": {},
   "outputs": [],
   "source": [
    "vertex_count = 5\n",
    "graph = Graph(vertex_count)\n",
    "\n",
    "graph.addEdge(0, 1)\n",
    "graph.addEdge(0, 4)\n",
    "graph.addEdge(1, 2)\n",
    "graph.addEdge(1, 3)\n",
    "graph.addEdge(1, 4)\n",
    "graph.addEdge(2, 3)\n",
    "graph.addEdge(3, 4)"
   ]
  },
  {
   "cell_type": "code",
   "execution_count": 4,
   "id": "413cfd76",
   "metadata": {},
   "outputs": [
    {
     "name": "stdout",
     "output_type": "stream",
     "text": [
      "vertex 0: -> 4 -> 1\n",
      "vertex 1: -> 4 -> 3 -> 2 -> 0\n",
      "vertex 2: -> 3 -> 1\n",
      "vertex 3: -> 4 -> 2 -> 1\n",
      "vertex 4: -> 3 -> 1 -> 0\n"
     ]
    }
   ],
   "source": [
    "graph.display()"
   ]
  },
  {
   "cell_type": "markdown",
   "id": "96cd08d0",
   "metadata": {},
   "source": [
    "# Adjacency Matrix"
   ]
  },
  {
   "cell_type": "code",
   "execution_count": 34,
   "id": "b7f26dfd",
   "metadata": {},
   "outputs": [],
   "source": [
    "import numpy as np\n",
    "\n",
    "class GraphAdjMat:\n",
    "    def __init__(self, number_of_vertex):\n",
    "        self.vertex = number_of_vertex\n",
    "        self.data = np.zeros((self.vertex, self.vertex))\n",
    "        \n",
    "    def addEdge(self, origin, destination, weight=1,  direct=False):\n",
    "        if origin >= self.vertex or destination >= self.vertex:\n",
    "            print(\"Index tidak benar,input nilai index antara 0 dan\", self.vertex - 1)\n",
    "            return\n",
    "        \n",
    "        if direct == \"direct\":\n",
    "            self.data[origin][destination] = weight\n",
    "        else:\n",
    "            self.data[origin][destination] = weight\n",
    "            self.data[destination][origin] = weight\n",
    "            \n",
    "            # self.data[origin][destination] = self.data[destination][origin] = weight\n",
    "            \n",
    "    def display(self):\n",
    "        print(self.data)\n",
    "        \n",
    "    def countVertex(self):\n",
    "        return self.vertex\n",
    "    \n",
    "    def countEdge(self):\n",
    "        edge = 0\n",
    "        for i in range(self.vertex):\n",
    "            for j in range(self.vertex):\n",
    "                if self.data[i][j] != 0:\n",
    "                    edge += 1\n",
    "                    \n",
    "        return edge\n",
    "    \n",
    "    def removeEdge(self, origin, destination, direct=False):\n",
    "        if origin >= self.vertex or destination >= self.vertex:\n",
    "            print(\"Index tidak benar,input nilai index antara 0 dan\", self.vertex - 1)\n",
    "            return\n",
    "        if direct == \"direct\":\n",
    "            self.data[origin][destination] = 0\n",
    "        else:\n",
    "            self.data[origin][destination] = 0\n",
    "            self.data[destination][origin] = 0\n",
    "            \n",
    "    def addVertex(self):\n",
    "        n = self.vertex\n",
    "        new_data = np.zeros((self.vertex + 1, self.vertex + 1))\n",
    "        for i in range(n):\n",
    "            for j in range(n):\n",
    "                new_data[i][j] = self.data[i][j]\n",
    "        self.data = new_data\n",
    "        self.vertex += 1"
   ]
  },
  {
   "cell_type": "code",
   "execution_count": 37,
   "id": "735ad9af",
   "metadata": {},
   "outputs": [
    {
     "name": "stdout",
     "output_type": "stream",
     "text": [
      "Jumlah vertex: 5\n",
      "Jumlah edge: 4\n",
      "\n",
      "\n",
      "[[0. 0. 0. 0. 1. 0.]\n",
      " [0. 0. 0. 0. 0. 0.]\n",
      " [0. 0. 0. 0. 0. 0.]\n",
      " [0. 0. 0. 0. 0. 0.]\n",
      " [1. 0. 0. 0. 0. 0.]\n",
      " [0. 0. 0. 0. 0. 0.]]\n",
      "\n",
      "[[0. 0. 7. 0. 1. 0.]\n",
      " [0. 0. 0. 5. 0. 0.]\n",
      " [7. 0. 0. 0. 0. 0.]\n",
      " [0. 5. 0. 0. 0. 0.]\n",
      " [1. 0. 0. 0. 0. 0.]\n",
      " [0. 0. 0. 0. 0. 0.]]\n",
      "Jumlah vertex: 6\n",
      "Jumlah edge: 6\n"
     ]
    }
   ],
   "source": [
    "count_vertex = 5\n",
    "graph = GraphAdjMat(count_vertex)\n",
    "graph.addEdge(0, 1)\n",
    "graph.addEdge(0, 4)\n",
    "\n",
    "# graph.display()\n",
    "\n",
    "print(\"Jumlah vertex:\", graph.countVertex())\n",
    "print(\"Jumlah edge:\", graph.countEdge())\n",
    "\n",
    "print()\n",
    "graph.removeEdge(0, 1)\n",
    "# graph.display()\n",
    "\n",
    "print()\n",
    "graph.addVertex()\n",
    "graph.display()\n",
    "\n",
    "print()\n",
    "graph.addEdge(1, 3, 5)\n",
    "graph.addEdge(0, 2, 7)\n",
    "graph.display()\n",
    "\n",
    "print(\"Jumlah vertex:\", graph.countVertex())\n",
    "print(\"Jumlah edge:\", graph.countEdge())"
   ]
  }
 ],
 "metadata": {
  "kernelspec": {
   "display_name": "analytics",
   "language": "python",
   "name": "python3"
  },
  "language_info": {
   "codemirror_mode": {
    "name": "ipython",
    "version": 3
   },
   "file_extension": ".py",
   "mimetype": "text/x-python",
   "name": "python",
   "nbconvert_exporter": "python",
   "pygments_lexer": "ipython3",
   "version": "3.11.8"
  }
 },
 "nbformat": 4,
 "nbformat_minor": 5
}
