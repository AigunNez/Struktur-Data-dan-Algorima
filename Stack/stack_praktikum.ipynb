{
 "cells": [
  {
   "cell_type": "code",
   "execution_count": 1,
   "id": "246c4ca6",
   "metadata": {},
   "outputs": [],
   "source": [
    "class Node:\n",
    "    def __init__(self, data):\n",
    "        self.data = data\n",
    "        self.next = None"
   ]
  },
  {
   "cell_type": "code",
   "execution_count": 19,
   "id": "9f4f6303",
   "metadata": {},
   "outputs": [
    {
     "name": "stdout",
     "output_type": "stream",
     "text": [
      "50 -> 40 -> 30 -> 20 -> 10 -> \n",
      "Jumlah data pada stack adalah : 5\n",
      "\n",
      "Data yang di pop adalah : 50\n",
      "Data paling atas adalah : 40\n",
      "\n",
      "40 -> 30 -> 20 -> 10 -> \n",
      "Jumlah data pada stack adalah : 4\n"
     ]
    }
   ],
   "source": [
    "class Stack:\n",
    "    def __init__(self):\n",
    "        self.top = None\n",
    "        \n",
    "    def isEmpty(self):\n",
    "        return self.top is None\n",
    "        \n",
    "    def push(self, data):\n",
    "        new_node = Node(data)\n",
    "        new_node.next = self.top\n",
    "        self.top = new_node\n",
    "        \n",
    "    def peek(self):\n",
    "        if self.isEmpty():\n",
    "            print(\"Stack kosong\")\n",
    "            return None\n",
    "        return self.top.data\n",
    "    \n",
    "    def pop(self):\n",
    "        if self.isEmpty():\n",
    "            print(\"Stack kosong\")\n",
    "            return None\n",
    "        popped_data = self.top.data\n",
    "        self.top = self.top.next\n",
    "        return popped_data\n",
    "    \n",
    "    def display(self):\n",
    "        temp = self.top\n",
    "        while temp:\n",
    "            print(temp.data, end=\" -> \")\n",
    "            temp = temp.next\n",
    "        print()\n",
    "        \n",
    "    def size(self):\n",
    "        count = 0\n",
    "        temp = self.top\n",
    "        while temp:\n",
    "            count += 1\n",
    "            temp = temp.next\n",
    "            \n",
    "        return count\n",
    "        \n",
    "stack = Stack()\n",
    "stack.push(10)\n",
    "stack.push(20)\n",
    "stack.push(30)\n",
    "stack.push(40)\n",
    "stack.push(50)\n",
    "# print(f\"Data paling atas adalah : {stack.peek()}\")\n",
    "stack.display()\n",
    "print(f\"Jumlah data pada stack adalah : {stack.size()}\")\n",
    "print()\n",
    "\n",
    "stack_pop = stack.pop()\n",
    "print(f\"Data yang di pop adalah : {stack_pop}\")\n",
    "print(f\"Data paling atas adalah : {stack.peek()}\")\n",
    "\n",
    "print()\n",
    "stack.display()\n",
    "\n",
    "print(f\"Jumlah data pada stack adalah : {stack.size()}\")"
   ]
  }
 ],
 "metadata": {
  "kernelspec": {
   "display_name": "analytics",
   "language": "python",
   "name": "python3"
  },
  "language_info": {
   "codemirror_mode": {
    "name": "ipython",
    "version": 3
   },
   "file_extension": ".py",
   "mimetype": "text/x-python",
   "name": "python",
   "nbconvert_exporter": "python",
   "pygments_lexer": "ipython3",
   "version": "3.11.8"
  }
 },
 "nbformat": 4,
 "nbformat_minor": 5
}
