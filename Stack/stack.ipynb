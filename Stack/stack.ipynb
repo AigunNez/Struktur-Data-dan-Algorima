{
 "cells": [
  {
   "cell_type": "markdown",
   "id": "4dc9b150",
   "metadata": {},
   "source": [
    "# Stack \n",
    "Stack adalah struktur data linier yang mengikuti prinsip LIFO (Last In, First Out), artinya elemen terakhir yang dimasukkan akan menjadi elemen pertama yang diambil.\n",
    "\n",
    "## Analogi Stack\n",
    "Bayangkan tumpukan piring di atas meja:\n",
    "- Saat kita meletakkan piring, kita taruh di atas tumpukan piring (<b>push</b>).\n",
    "- Saat kita ingin mengambil piring, kita ambil yang paling atas dulu (<b>pop</b>). <br>\n",
    "Artinya, piring terakhir yang ditaruh, akan menjadi piring pertama yang diambil.\n",
    "\n",
    "## Konsep Penting:\n",
    "- Stack hanya bisa diakses dari satu sisi saja, yaitu bagian atas (top).\n",
    "- Elemen yang masuk pertama akan terus berada di bawah sampai yang di atasnya diambil dulu."
   ]
  },
  {
   "cell_type": "markdown",
   "id": "1622dff9",
   "metadata": {},
   "source": [
    "<table border=\"1\" cellpadding=\"10\" cellspacing=\"0\">\n",
    "  <thead>\n",
    "    <tr>\n",
    "      <th>Istilah</th>\n",
    "      <th>Arti</th>\n",
    "    </tr>\n",
    "  </thead>\n",
    "  <tbody>\n",
    "    <tr>\n",
    "      <td><strong>Push</strong></td>\n",
    "      <td>Menambahkan elemen ke stack</td>\n",
    "    </tr>\n",
    "    <tr>\n",
    "      <td><strong>Pop</strong></td>\n",
    "      <td>Menghapus elemen dari stack</td>\n",
    "    </tr>\n",
    "    <tr>\n",
    "      <td><strong>Top</strong></td>\n",
    "      <td>Elemen paling atas di stack</td>\n",
    "    </tr>\n",
    "    <tr>\n",
    "      <td><strong>isEmpty</strong></td>\n",
    "      <td>Mengecek apakah stack kosong</td>\n",
    "    </tr>\n",
    "  </tbody>\n",
    "</table>\n"
   ]
  },
  {
   "cell_type": "markdown",
   "id": "0ccf159e",
   "metadata": {},
   "source": [
    "## Stack dalam Bidang Machine Learning dan Deep Learning\n",
    "### Struktur Call Stack dalam Proses Forward dan Backward Propagation\n",
    "- Dalam Deep Learning (DL), proses forward propagation dan terutama backpropagation mengandalkan mekanisme stack untuk melacak urutan operasi matematika secara terbalik (gradient descent).\n",
    "- Stack sangat membantu dalam implementasi otomatisasi diferensiasi (autograd engine) seperti yang digunakan oleh PyTorch dan TensorFlow.\n",
    "\n",
    "### Stack pada Rekursi dan Model Berbasis Tree (Misal: Decision Tree, Parsing Tree)\n",
    "- Algoritma pelatihan atau traversal struktur seperti Decision Tree, Parsing Tree (NLP), atau Syntax Tree (pada NLP/Compiler AI) menggunakan stack untuk menyimpan node saat traversing.\n",
    "\n",
    "### Evaluasi Ekspresi dalam NLP dan Logic Programming\n",
    "- Dalam Natural Language Processing (NLP), terutama saat membangun parser, digunakan stack untuk mengevaluasi ekspresi grammar.\n",
    "- Dalam AI berbasis logika (seperti Prolog), stack digunakan untuk menyimpan frame-frame logika yang sedang dievaluasi."
   ]
  },
  {
   "cell_type": "markdown",
   "id": "399f1c31",
   "metadata": {},
   "source": [
    "## Struktur Stack dan Implementasi Node\n",
    "### Struktur Stack\n",
    "Stack bisa diimplementasikan dengan berbagai cara salah satunya linked list (senarai berantai), di mana setiap elemen stack adalah sebuah node.\n",
    "\n",
    "### Struktur Node\n",
    "Setiap node di dalam stack memiliki dua atribut:\n",
    "- data → nilai atau informasi yang disimpan\n",
    "- next → pointer ke node berikutnya (yang lebih lama)"
   ]
  },
  {
   "cell_type": "code",
   "execution_count": null,
   "id": "95aab0ba",
   "metadata": {},
   "outputs": [],
   "source": [
    "class Node:\n",
    "    def __init__(self, data):\n",
    "        self.data = data\n",
    "        self.next = None"
   ]
  },
  {
   "cell_type": "markdown",
   "id": "4a364e07",
   "metadata": {},
   "source": [
    "### Struktur Stack\n",
    "Stack disusun dari beberapa node, dengan satu pointer utama bernama top yang menunjuk ke node paling atas."
   ]
  },
  {
   "cell_type": "code",
   "execution_count": null,
   "id": "c67c9f77",
   "metadata": {},
   "outputs": [],
   "source": [
    "class Stack:\n",
    "    def __init__(self):\n",
    "        self.top = None  # Awalnya kosong\n",
    "        \n",
    "stack = Stack()"
   ]
  },
  {
   "cell_type": "markdown",
   "id": "269bbb29",
   "metadata": {},
   "source": [
    "### Ilustrasi Visual Stack\n",
    "Sebagai contoh kita memasukkan nilai Stack push(3), lalu push(5) dan push(9): <br>\n",
    "```Top → [9] → [5] → [3] → None``` <br>\n",
    "Penjelasan:\n",
    "- top menunjuk ke elemen terakhir yang dimasukkan, yaitu 9\n",
    "- 9 menunjuk ke 5, dan 5 menunjuk ke 3\n",
    "- 3 menunjuk ke None karena tidak ada elemen sebelumnya"
   ]
  },
  {
   "cell_type": "markdown",
   "id": "c199f884",
   "metadata": {},
   "source": [
    "###  Prinsip LIFO dalam Struktur Ini\n",
    "- Operasi push: tambahkan elemen baru di posisi top, dan geser top ke elemen baru\n",
    "- Operasi pop: ambil elemen top, lalu pindahkan top ke top.next"
   ]
  },
  {
   "cell_type": "markdown",
   "id": "d27947c4",
   "metadata": {},
   "source": [
    "<h3>Keuntungan Menggunakan Linked List pada Stack:</h3>\n",
    "<table border=\"1\" cellpadding=\"10\" cellspacing=\"0\">\n",
    "  <thead>\n",
    "    <tr>\n",
    "      <th>Keuntungan</th>\n",
    "      <th>Penjelasan</th>\n",
    "    </tr>\n",
    "  </thead>\n",
    "  <tbody>\n",
    "    <tr>\n",
    "      <td>Dinamis</td>\n",
    "      <td>Tidak perlu menentukan ukuran dari awal</td>\n",
    "    </tr>\n",
    "    <tr>\n",
    "      <td>Tidak terpengaruh overflow</td>\n",
    "      <td>Tidak terbatas kapasitas seperti array</td>\n",
    "    </tr>\n",
    "    <tr>\n",
    "      <td>Efisien untuk <code>push</code> / <code>pop</code></td>\n",
    "      <td>Operasi dilakukan langsung di satu sisi (O(1))</td>\n",
    "    </tr>\n",
    "  </tbody>\n",
    "</table>\n"
   ]
  },
  {
   "cell_type": "markdown",
   "id": "bb7ec591",
   "metadata": {},
   "source": [
    "## Operasi Dasar pada Stack\n",
    "Dalam struktur data stack, terdapat beberapa operasi utama yang harus dipahami dan dikuasai, baik secara konsep maupun implementasinya.\n",
    "\n",
    "### 1. isEmpty() – Memeriksa Apakah Stack Kosong\n",
    "Fungsi ini digunakan sebelum operasi seperti pop() atau peek() agar tidak terjadi error saat stack kosong."
   ]
  },
  {
   "cell_type": "code",
   "execution_count": null,
   "id": "00a8d557",
   "metadata": {},
   "outputs": [],
   "source": [
    "def isEmpty(self):\n",
    "    return self.top is None"
   ]
  },
  {
   "cell_type": "markdown",
   "id": "cd8e5833",
   "metadata": {},
   "source": [
    "### 2. push(data) – Menambahkan Elemen ke Stack\n",
    "Menambahkan elemen ke bagian atas (top) stack. <br>\n",
    "Waktu operasi: O(1)"
   ]
  },
  {
   "cell_type": "code",
   "execution_count": null,
   "id": "05475f30",
   "metadata": {},
   "outputs": [],
   "source": [
    "def push(self, data):\n",
    "    new_node = Node(data)\n",
    "    new_node.next = self.top\n",
    "    self.top = new_node"
   ]
  },
  {
   "cell_type": "markdown",
   "id": "914414d3",
   "metadata": {},
   "source": [
    "### 3. pop() – Menghapus Elemen Teratas\n",
    "- Menghapus dan mengembalikan elemen paling atas dari stack\n",
    "- Jika stack kosong, harus dicek dulu\n",
    "- Waktu operasi: O(1)"
   ]
  },
  {
   "cell_type": "code",
   "execution_count": null,
   "id": "de1b32c8",
   "metadata": {},
   "outputs": [],
   "source": [
    "def pop(self):\n",
    "    if self.isEmpty():\n",
    "        print(\"Stack is empty\")\n",
    "        return None\n",
    "    \n",
    "    popped_data = self.top.data\n",
    "    self.top = self.top.next\n",
    "    return popped_data"
   ]
  },
  {
   "cell_type": "markdown",
   "id": "c278ea92",
   "metadata": {},
   "source": [
    "### 4. peek() – Melihat Elemen Teratas\n",
    "Mengembalikan elemen di bagian atas tanpa menghapusnya"
   ]
  },
  {
   "cell_type": "code",
   "execution_count": null,
   "id": "60d80dfc",
   "metadata": {},
   "outputs": [],
   "source": [
    "def peek(self):\n",
    "    if self.isEmpty():\n",
    "        print(\"Stack is empty\")\n",
    "        return None\n",
    "    return self.top.data"
   ]
  },
  {
   "cell_type": "markdown",
   "id": "4c9ac4dd",
   "metadata": {},
   "source": [
    "### 5. display() – Menampilkan Isi Stack\n",
    "Menampilkan isi stack dari atas ke bawah\n"
   ]
  },
  {
   "cell_type": "code",
   "execution_count": null,
   "id": "3ba67b95",
   "metadata": {},
   "outputs": [],
   "source": [
    "def display(self):\n",
    "    temp = self.top\n",
    "    while temp:\n",
    "        print(temp.data)\n",
    "        temp = temp.next"
   ]
  },
  {
   "cell_type": "markdown",
   "id": "3b432097",
   "metadata": {},
   "source": [
    "### 6. size() – Menghitung Jumlah Elemen dalam Stack"
   ]
  },
  {
   "cell_type": "code",
   "execution_count": null,
   "id": "e0920697",
   "metadata": {},
   "outputs": [],
   "source": [
    "def size(self):\n",
    "    count = 0\n",
    "    temp = self.top\n",
    "    while temp:\n",
    "        count += 1\n",
    "        temp = temp.next\n",
    "    return count"
   ]
  },
  {
   "cell_type": "markdown",
   "id": "2696f047",
   "metadata": {},
   "source": [
    "### Contoh"
   ]
  },
  {
   "cell_type": "code",
   "execution_count": null,
   "id": "66de95da",
   "metadata": {},
   "outputs": [],
   "source": [
    "s = Stack()\n",
    "s.push(1)\n",
    "s.push(2)\n",
    "s.push(3)\n",
    "print(\"Isi Stack:\")\n",
    "s.display()\n",
    "\n",
    "print(\"Pop:\", s.pop())\n",
    "print(\"Top Sekarang:\", s.peek())\n",
    "print(\"Ukuran:\", s.size())\n"
   ]
  },
  {
   "cell_type": "markdown",
   "id": "9bf6088f",
   "metadata": {},
   "source": [
    "## Gunakan collections.deque untuk Stack Lebih Efisien"
   ]
  },
  {
   "cell_type": "code",
   "execution_count": 5,
   "id": "1f3c7fef",
   "metadata": {},
   "outputs": [
    {
     "name": "stdout",
     "output_type": "stream",
     "text": [
      "deque([10, 20])\n",
      "deque([10])\n"
     ]
    }
   ],
   "source": [
    "from collections import deque\n",
    "\n",
    "stack = deque()\n",
    "\n",
    "stack.append(10)     # push\n",
    "stack.append(20)     # push\n",
    "print(stack)\n",
    "\n",
    "stack.pop()          # pop\n",
    "print(stack)"
   ]
  },
  {
   "cell_type": "markdown",
   "id": "9c881e24",
   "metadata": {},
   "source": [
    "# Aplikasi Stack dalam Kehidupan Nyata"
   ]
  },
  {
   "cell_type": "markdown",
   "id": "af019a1f",
   "metadata": {},
   "source": [
    "###  Navigasi \"Back\" di Browser\n",
    "Setiap kali pengguna membuka halaman baru, URL disimpan ke dalam stack. Saat menekan tombol back, URL paling atas akan di-pop, dan pengguna kembali ke halaman sebelumnya.\n",
    "- push(URL) saat membuka halaman baru\n",
    "- pop() saat klik tombol back"
   ]
  },
  {
   "cell_type": "markdown",
   "id": "318f8891",
   "metadata": {},
   "source": [
    "### Undo/Redo di Text Editor\n",
    "Setiap tindakan (seperti mengetik, menghapus) disimpan dalam stack.\n",
    "- Undo: Pop dari stack tindakan dan batalkan\n",
    "- Redo: Disimpan dalam stack terpisah untuk bisa dikembalikan\n",
    "\n"
   ]
  }
 ],
 "metadata": {
  "kernelspec": {
   "display_name": "analytics",
   "language": "python",
   "name": "python3"
  },
  "language_info": {
   "codemirror_mode": {
    "name": "ipython",
    "version": 3
   },
   "file_extension": ".py",
   "mimetype": "text/x-python",
   "name": "python",
   "nbconvert_exporter": "python",
   "pygments_lexer": "ipython3",
   "version": "3.11.8"
  }
 },
 "nbformat": 4,
 "nbformat_minor": 5
}
